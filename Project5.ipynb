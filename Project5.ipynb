{
 "cells": [
  {
   "cell_type": "code",
   "execution_count": 2,
   "metadata": {},
   "outputs": [],
   "source": [
    "import os\n",
    "import numpy as np\n",
    "import pandas as pd\n",
    "from matplotlib import pyplot as plt\n",
    "from scipy import stats\n",
    "import seaborn as sns\n",
    "import math\n",
    "from datetime import datetime"
   ]
  },
  {
   "cell_type": "code",
   "execution_count": 3,
   "metadata": {},
   "outputs": [],
   "source": [
    "os.chdir('D:\\\\Moji fajlovi\\\\Master\\\\prog\\\\Project 5 - Agriculture Data Analysis')"
   ]
  },
  {
   "cell_type": "code",
   "execution_count": 4,
   "metadata": {},
   "outputs": [
    {
     "data": {
      "text/html": [
       "<div>\n",
       "<style scoped>\n",
       "    .dataframe tbody tr th:only-of-type {\n",
       "        vertical-align: middle;\n",
       "    }\n",
       "\n",
       "    .dataframe tbody tr th {\n",
       "        vertical-align: top;\n",
       "    }\n",
       "\n",
       "    .dataframe thead th {\n",
       "        text-align: right;\n",
       "    }\n",
       "</style>\n",
       "<table border=\"1\" class=\"dataframe\">\n",
       "  <thead>\n",
       "    <tr style=\"text-align: right;\">\n",
       "      <th></th>\n",
       "      <th>Parcel</th>\n",
       "      <th>Area</th>\n",
       "      <th>Year</th>\n",
       "      <th>Crop</th>\n",
       "      <th>Seed production</th>\n",
       "      <th>Variety</th>\n",
       "      <th>Previous crop</th>\n",
       "      <th>Seed units</th>\n",
       "      <th>Manure</th>\n",
       "      <th>Fertiliser amount</th>\n",
       "      <th>...</th>\n",
       "      <th>Irrigation</th>\n",
       "      <th>Harvest</th>\n",
       "      <th>Seed</th>\n",
       "      <th>Fertiliser</th>\n",
       "      <th>Pesticide</th>\n",
       "      <th>Yield</th>\n",
       "      <th>Price</th>\n",
       "      <th>Revenue</th>\n",
       "      <th>Planting date</th>\n",
       "      <th>Harvest date</th>\n",
       "    </tr>\n",
       "  </thead>\n",
       "  <tbody>\n",
       "    <tr>\n",
       "      <th>0</th>\n",
       "      <td>G-1/1</td>\n",
       "      <td>63,38</td>\n",
       "      <td>2018</td>\n",
       "      <td>Maize</td>\n",
       "      <td>0</td>\n",
       "      <td>NS 205</td>\n",
       "      <td>Maize</td>\n",
       "      <td>184</td>\n",
       "      <td>0</td>\n",
       "      <td>237,719575</td>\n",
       "      <td>...</td>\n",
       "      <td>9000</td>\n",
       "      <td>11853,74</td>\n",
       "      <td>9450</td>\n",
       "      <td>5037,277795</td>\n",
       "      <td>15202,25308</td>\n",
       "      <td>7,811454718</td>\n",
       "      <td>14,4</td>\n",
       "      <td>112484,9479</td>\n",
       "      <td>15.6.2018</td>\n",
       "      <td>15.10.2018</td>\n",
       "    </tr>\n",
       "    <tr>\n",
       "      <th>1</th>\n",
       "      <td>G-1/2</td>\n",
       "      <td>23,01</td>\n",
       "      <td>2018</td>\n",
       "      <td>Barley</td>\n",
       "      <td>0</td>\n",
       "      <td>Salamandre</td>\n",
       "      <td>Maize</td>\n",
       "      <td>46</td>\n",
       "      <td>0</td>\n",
       "      <td>238,6363636</td>\n",
       "      <td>...</td>\n",
       "      <td>0</td>\n",
       "      <td>11762,74</td>\n",
       "      <td>8594,30605</td>\n",
       "      <td>7079,225979</td>\n",
       "      <td>1435</td>\n",
       "      <td>7,146352313</td>\n",
       "      <td>15,8</td>\n",
       "      <td>112912,3665</td>\n",
       "      <td>28.9.2017</td>\n",
       "      <td>5.6.2018</td>\n",
       "    </tr>\n",
       "    <tr>\n",
       "      <th>2</th>\n",
       "      <td>G-2/1</td>\n",
       "      <td>94,88</td>\n",
       "      <td>2018</td>\n",
       "      <td>Soybean</td>\n",
       "      <td>0</td>\n",
       "      <td>Gorstak</td>\n",
       "      <td>Maize</td>\n",
       "      <td>100,33</td>\n",
       "      <td>0</td>\n",
       "      <td>214,6331148</td>\n",
       "      <td>...</td>\n",
       "      <td>9000</td>\n",
       "      <td>11549,5</td>\n",
       "      <td>10191,21689</td>\n",
       "      <td>7146,257137</td>\n",
       "      <td>11843,41404</td>\n",
       "      <td>3,388877141</td>\n",
       "      <td>37,35</td>\n",
       "      <td>126574,5612</td>\n",
       "      <td>19.4.2018</td>\n",
       "      <td>13.9.2018</td>\n",
       "    </tr>\n",
       "    <tr>\n",
       "      <th>3</th>\n",
       "      <td>G-2/2</td>\n",
       "      <td>20,59</td>\n",
       "      <td>2018</td>\n",
       "      <td>Soybean</td>\n",
       "      <td>0</td>\n",
       "      <td>Wendy</td>\n",
       "      <td>Maize</td>\n",
       "      <td>93,15</td>\n",
       "      <td>0</td>\n",
       "      <td>140,8450704</td>\n",
       "      <td>...</td>\n",
       "      <td>0</td>\n",
       "      <td>11571,08</td>\n",
       "      <td>5428,848956</td>\n",
       "      <td>4776,056338</td>\n",
       "      <td>12594,37882</td>\n",
       "      <td>3,71296746</td>\n",
       "      <td>37,35</td>\n",
       "      <td>138679,3346</td>\n",
       "      <td>17.4.2018</td>\n",
       "      <td>14.9.2018</td>\n",
       "    </tr>\n",
       "    <tr>\n",
       "      <th>4</th>\n",
       "      <td>G-3/1</td>\n",
       "      <td>63,62</td>\n",
       "      <td>2018</td>\n",
       "      <td>Maize</td>\n",
       "      <td>0</td>\n",
       "      <td>DKC 5830</td>\n",
       "      <td>Wheat</td>\n",
       "      <td>60</td>\n",
       "      <td>1,886199308</td>\n",
       "      <td>474,6934926</td>\n",
       "      <td>...</td>\n",
       "      <td>9000</td>\n",
       "      <td>12801,04</td>\n",
       "      <td>19899,77051</td>\n",
       "      <td>19745,51399</td>\n",
       "      <td>4947,696479</td>\n",
       "      <td>14,60232631</td>\n",
       "      <td>14,4</td>\n",
       "      <td>210273,4989</td>\n",
       "      <td>17.4.2018</td>\n",
       "      <td>14.9.2018</td>\n",
       "    </tr>\n",
       "  </tbody>\n",
       "</table>\n",
       "<p>5 rows × 25 columns</p>\n",
       "</div>"
      ],
      "text/plain": [
       "  Parcel   Area  Year     Crop  Seed production     Variety Previous crop  \\\n",
       "0  G-1/1  63,38  2018    Maize                0      NS 205         Maize   \n",
       "1  G-1/2  23,01  2018   Barley                0  Salamandre         Maize   \n",
       "2  G-2/1  94,88  2018  Soybean                0     Gorstak         Maize   \n",
       "3  G-2/2  20,59  2018  Soybean                0       Wendy         Maize   \n",
       "4  G-3/1  63,62  2018    Maize                0    DKC 5830         Wheat   \n",
       "\n",
       "  Seed units       Manure Fertiliser amount     ...      Irrigation   Harvest  \\\n",
       "0        184            0        237,719575     ...            9000  11853,74   \n",
       "1         46            0       238,6363636     ...               0  11762,74   \n",
       "2     100,33            0       214,6331148     ...            9000   11549,5   \n",
       "3      93,15            0       140,8450704     ...               0  11571,08   \n",
       "4         60  1,886199308       474,6934926     ...            9000  12801,04   \n",
       "\n",
       "          Seed   Fertiliser    Pesticide        Yield  Price      Revenue  \\\n",
       "0         9450  5037,277795  15202,25308  7,811454718   14,4  112484,9479   \n",
       "1   8594,30605  7079,225979         1435  7,146352313   15,8  112912,3665   \n",
       "2  10191,21689  7146,257137  11843,41404  3,388877141  37,35  126574,5612   \n",
       "3  5428,848956  4776,056338  12594,37882   3,71296746  37,35  138679,3346   \n",
       "4  19899,77051  19745,51399  4947,696479  14,60232631   14,4  210273,4989   \n",
       "\n",
       "  Planting date Harvest date  \n",
       "0     15.6.2018   15.10.2018  \n",
       "1     28.9.2017     5.6.2018  \n",
       "2     19.4.2018    13.9.2018  \n",
       "3     17.4.2018    14.9.2018  \n",
       "4     17.4.2018    14.9.2018  \n",
       "\n",
       "[5 rows x 25 columns]"
      ]
     },
     "execution_count": 4,
     "metadata": {},
     "output_type": "execute_result"
    }
   ],
   "source": [
    "data = pd.read_csv('database_biosense.csv',header=0, delimiter=';',skiprows=1)\n",
    "data.head()"
   ]
  },
  {
   "cell_type": "code",
   "execution_count": 5,
   "metadata": {},
   "outputs": [
    {
     "data": {
      "text/plain": [
       "Parcel                    False\n",
       "Area                      False\n",
       "Year                      False\n",
       "Crop                      False\n",
       "Seed production           False\n",
       "Variety                    True\n",
       "Previous crop              True\n",
       "Seed units                 True\n",
       "Manure                    False\n",
       "Fertiliser amount         False\n",
       "Pesticide amount          False\n",
       "Tillage                   False\n",
       "Sowing                    False\n",
       "Fertiliser application    False\n",
       "Pesticide application     False\n",
       "Irrigation                False\n",
       "Harvest                   False\n",
       "Seed                      False\n",
       "Fertiliser                False\n",
       "Pesticide                 False\n",
       "Yield                     False\n",
       "Price                     False\n",
       "Revenue                   False\n",
       "Planting date              True\n",
       "Harvest date               True\n",
       "dtype: bool"
      ]
     },
     "execution_count": 5,
     "metadata": {},
     "output_type": "execute_result"
    }
   ],
   "source": [
    "data.isnull().any()"
   ]
  },
  {
   "cell_type": "code",
   "execution_count": 6,
   "metadata": {},
   "outputs": [],
   "source": [
    "data.fillna({'Variety':'None','Previous crop': 'None','Seed units': '0'}, inplace=True)"
   ]
  },
  {
   "cell_type": "code",
   "execution_count": 7,
   "metadata": {},
   "outputs": [],
   "source": [
    "convert_todot = lambda x: float(x.replace(',','.'))"
   ]
  },
  {
   "cell_type": "code",
   "execution_count": 8,
   "metadata": {},
   "outputs": [],
   "source": [
    "data['Area'] = data['Area'].apply(convert_todot)"
   ]
  },
  {
   "cell_type": "code",
   "execution_count": null,
   "metadata": {},
   "outputs": [],
   "source": [
    "l = list(data)[7:23]\n",
    "for i in l:\n",
    "    try:\n",
    "        data[i] = data[i].apply(convert_todot)\n",
    "    except ValueError:\n",
    "        print(i)"
   ]
  },
  {
   "cell_type": "code",
   "execution_count": 11,
   "metadata": {},
   "outputs": [],
   "source": [
    "drop = data['Planting date'].dropna()\n",
    "i1 = list(drop.index.values)\n",
    "newd = data.loc[i1]"
   ]
  },
  {
   "cell_type": "code",
   "execution_count": 12,
   "metadata": {},
   "outputs": [],
   "source": [
    "drop2 = newd['Harvest date'].dropna()\n",
    "i2 = list(drop2.index.values)\n",
    "newd = newd.loc[i2]"
   ]
  },
  {
   "cell_type": "code",
   "execution_count": 13,
   "metadata": {},
   "outputs": [],
   "source": [
    "convert_date = lambda x: datetime.strptime(str(x), '%d.%m.%Y')"
   ]
  },
  {
   "cell_type": "code",
   "execution_count": 14,
   "metadata": {},
   "outputs": [],
   "source": [
    "newd['Planting date'] = newd['Planting date'].apply(convert_date)\n",
    "newd['Harvest date'] = newd['Harvest date'].apply(convert_date)"
   ]
  },
  {
   "cell_type": "code",
   "execution_count": 15,
   "metadata": {},
   "outputs": [
    {
     "data": {
      "text/plain": [
       "['Maize',\n",
       " 'Barley',\n",
       " 'Soybean',\n",
       " 'Wheat',\n",
       " 'Sunflower',\n",
       " 'Oilseed rape',\n",
       " '2nd soybean']"
      ]
     },
     "execution_count": 15,
     "metadata": {},
     "output_type": "execute_result"
    }
   ],
   "source": [
    "crops = list(newd['Crop'].unique())\n",
    "crops"
   ]
  },
  {
   "cell_type": "code",
   "execution_count": 22,
   "metadata": {},
   "outputs": [
    {
     "data": {
      "text/plain": [
       "(array([21.,  1.,  0.,  0.,  0.,  0.,  0.,  0., 22.,  1.]),\n",
       " array([736422. , 736465.8, 736509.6, 736553.4, 736597.2, 736641. ,\n",
       "        736684.8, 736728.6, 736772.4, 736816.2, 736860. ]),\n",
       " <a list of 10 Patch objects>)"
      ]
     },
     "execution_count": 22,
     "metadata": {},
     "output_type": "execute_result"
    },
    {
     "data": {
      "image/png": "[encoded data removed]",
      "text/plain": [
       "<Figure size 432x288 with 1 Axes>"
      ]
     },
     "metadata": {
      "needs_background": "light"
     },
     "output_type": "display_data"
    }
   ],
   "source": [
    "dd = newd[newd['Crop']==crops[0]]\n",
    "plt.hist(list(dd['Planting date'].values))"
   ]
  },
  {
   "cell_type": "code",
   "execution_count": 23,
   "metadata": {},
   "outputs": [
    {
     "data": {
      "text/plain": [
       "(array([9., 5., 4., 3., 2., 7., 3., 5., 2., 5.]),\n",
       " array([ 0. ,  2.2,  4.4,  6.6,  8.8, 11. , 13.2, 15.4, 17.6, 19.8, 22. ]),\n",
       " <a list of 10 Patch objects>)"
      ]
     },
     "execution_count": 23,
     "metadata": {},
     "output_type": "execute_result"
    },
    {
     "data": {
      "image/png": "[encoded data removed]",
      "text/plain": [
       "<Figure size 432x288 with 1 Axes>"
      ]
     },
     "metadata": {
      "needs_background": "light"
     },
     "output_type": "display_data"
    }
   ],
   "source": [
    "from sklearn.preprocessing import LabelEncoder\n",
    "lbl = LabelEncoder()\n",
    "plant_dates = dd['Planting date'].values\n",
    "plant_labels = lbl.fit_transform(plant_dates)\n",
    "plt.hist(plant_labels)"
   ]
  },
  {
   "cell_type": "code",
   "execution_count": 16,
   "metadata": {},
   "outputs": [
    {
     "ename": "TypeError",
     "evalue": "hist_frame() got multiple values for argument 'data'",
     "output_type": "error",
     "traceback": [
      "\u001b[1;31m---------------------------------------------------------------------------\u001b[0m",
      "\u001b[1;31mTypeError\u001b[0m                                 Traceback (most recent call last)",
      "\u001b[1;32m<ipython-input-16-208d4ed875af>\u001b[0m in \u001b[0;36m<module>\u001b[1;34m()\u001b[0m\n\u001b[0;32m      6\u001b[0m     \u001b[0mdf\u001b[0m \u001b[1;33m=\u001b[0m \u001b[0mnewd\u001b[0m\u001b[1;33m[\u001b[0m\u001b[0mnewd\u001b[0m\u001b[1;33m[\u001b[0m\u001b[1;34m'Crop'\u001b[0m\u001b[1;33m]\u001b[0m\u001b[1;33m==\u001b[0m\u001b[0mcrops\u001b[0m\u001b[1;33m[\u001b[0m\u001b[0mi\u001b[0m\u001b[1;33m]\u001b[0m\u001b[1;33m]\u001b[0m\u001b[1;33m\u001b[0m\u001b[0m\n\u001b[0;32m      7\u001b[0m \u001b[1;33m\u001b[0m\u001b[0m\n\u001b[1;32m----> 8\u001b[1;33m     \u001b[0mdf\u001b[0m\u001b[1;33m.\u001b[0m\u001b[0mhist\u001b[0m\u001b[1;33m(\u001b[0m\u001b[0mdata\u001b[0m\u001b[1;33m=\u001b[0m\u001b[0mdf\u001b[0m\u001b[1;33m,\u001b[0m\u001b[0mcolumn\u001b[0m\u001b[1;33m=\u001b[0m\u001b[1;34m'Planting date'\u001b[0m\u001b[1;33m)\u001b[0m\u001b[1;33m\u001b[0m\u001b[0m\n\u001b[0m\u001b[0;32m      9\u001b[0m     \u001b[0max1\u001b[0m\u001b[1;33m.\u001b[0m\u001b[0mset_xlabel\u001b[0m\u001b[1;33m(\u001b[0m\u001b[1;34m'planting date'\u001b[0m\u001b[1;33m,\u001b[0m\u001b[0mfontsize\u001b[0m\u001b[1;33m=\u001b[0m\u001b[1;36m16\u001b[0m\u001b[1;33m)\u001b[0m\u001b[1;33m\u001b[0m\u001b[0m\n\u001b[0;32m     10\u001b[0m \u001b[1;33m\u001b[0m\u001b[0m\n",
      "\u001b[1;31mTypeError\u001b[0m: hist_frame() got multiple values for argument 'data'"
     ]
    },
    {
     "data": {
      "image/png": "[encoded data removed]",
      "text/plain": [
       "<Figure size 1080x720 with 1 Axes>"
      ]
     },
     "metadata": {
      "needs_background": "light"
     },
     "output_type": "display_data"
    }
   ],
   "source": [
    "n = len(crops)\n",
    "for i in range(n):\n",
    "    fig = plt.figure(figsize=(15,10))\n",
    "    \n",
    "    from sklearn.preprocessing import LabelEncoder\n",
    "    lbl = LabelEncoder()\n",
    "    \n",
    "    df = newd[newd['Crop']==crops[i]]\n",
    "    \n",
    "    ax1 = fig.add_subplot(121)\n",
    "    plant_dates = df['Planting date'].values\n",
    "    plant_labels = lbl.fit_transform(plant_dates)\n",
    "    plt.hist(plant_labels)\n",
    "    ax1.set_xlabel('planting date',fontsize=16)\n",
    "    \n",
    "    ax2 = fig.add_subplot(122)\n",
    "    harvest_dates = df['Harvest date'].values\n",
    "    harvest_labels = lbl.fit_transform(harvest_dates)\n",
    "    plt.hist(harvest_labels)\n",
    "    ax2.set_xlabel('harvest date',fontsize=16)\n",
    "    \n",
    "    \n",
    "    fig.suptitle(crops[i], fontsize = 20, y=0.95)\n",
    "#fig.tight_layout()\n",
    "#plt.subplots_adjust(top=0.92, bottom=0.08, left=0.10, right=0.95, hspace=0.3, wspace=0.35)\n",
    "plt.show()"
   ]
  },
  {
   "cell_type": "code",
   "execution_count": null,
   "metadata": {},
   "outputs": [],
   "source": []
  }
 ],
 "metadata": {
  "kernelspec": {
   "display_name": "Python 3",
   "language": "python",
   "name": "python3"
  },
  "language_info": {
   "codemirror_mode": {
    "name": "ipython",
    "version": 3
   },
   "file_extension": ".py",
   "mimetype": "text/x-python",
   "name": "python",
   "nbconvert_exporter": "python",
   "pygments_lexer": "ipython3",
   "version": "3.7.0"
  }
 },
 "nbformat": 4,
 "nbformat_minor": 2
}
