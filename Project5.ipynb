{
 "cells": [
  {
   "cell_type": "code",
   "execution_count": 1,
   "metadata": {},
   "outputs": [],
   "source": [
    "import os\n",
    "import numpy as np\n",
    "import pandas as pd\n",
    "from matplotlib import pyplot as plt\n",
    "from scipy import stats\n",
    "import seaborn as sns\n",
    "from datetime import datetime\n",
    "import datetime\n",
    "import math\n",
    "from matplotlib import rcParams\n",
    "rcParams['font.family'] = 'sans-serif'\n",
    "rcParams['font.sans-serif'] = ['DejaVu Sans']\n",
    "import matplotlib.gridspec as gridspec\n",
    "from IPython.display import HTML"
   ]
  },
  {
   "cell_type": "code",
   "execution_count": 2,
   "metadata": {},
   "outputs": [],
   "source": [
    "os.chdir('D:\\\\Moji fajlovi\\\\Master\\\\prog\\\\Project 5 - Agriculture Data Analysis')"
   ]
  },
  {
   "cell_type": "code",
   "execution_count": 3,
   "metadata": {},
   "outputs": [
    {
     "data": {
      "text/html": [
       "<div>\n",
       "<style scoped>\n",
       "    .dataframe tbody tr th:only-of-type {\n",
       "        vertical-align: middle;\n",
       "    }\n",
       "\n",
       "    .dataframe tbody tr th {\n",
       "        vertical-align: top;\n",
       "    }\n",
       "\n",
       "    .dataframe thead th {\n",
       "        text-align: right;\n",
       "    }\n",
       "</style>\n",
       "<table border=\"1\" class=\"dataframe\">\n",
       "  <thead>\n",
       "    <tr style=\"text-align: right;\">\n",
       "      <th></th>\n",
       "      <th>Parcel</th>\n",
       "      <th>Area</th>\n",
       "      <th>Year</th>\n",
       "      <th>Crop</th>\n",
       "      <th>Seed production</th>\n",
       "      <th>Variety</th>\n",
       "      <th>Previous crop</th>\n",
       "      <th>Seed units</th>\n",
       "      <th>Manure</th>\n",
       "      <th>Fertiliser amount</th>\n",
       "      <th>...</th>\n",
       "      <th>Irrigation</th>\n",
       "      <th>Harvest</th>\n",
       "      <th>Seed</th>\n",
       "      <th>Fertiliser</th>\n",
       "      <th>Pesticide</th>\n",
       "      <th>Yield</th>\n",
       "      <th>Price</th>\n",
       "      <th>Revenue</th>\n",
       "      <th>Planting date</th>\n",
       "      <th>Harvest date</th>\n",
       "    </tr>\n",
       "  </thead>\n",
       "  <tbody>\n",
       "    <tr>\n",
       "      <th>0</th>\n",
       "      <td>G-1/1</td>\n",
       "      <td>63,38</td>\n",
       "      <td>2018</td>\n",
       "      <td>Maize</td>\n",
       "      <td>0</td>\n",
       "      <td>NS 205</td>\n",
       "      <td>Maize</td>\n",
       "      <td>184</td>\n",
       "      <td>0</td>\n",
       "      <td>237,719575</td>\n",
       "      <td>...</td>\n",
       "      <td>9000</td>\n",
       "      <td>11853,74</td>\n",
       "      <td>9450</td>\n",
       "      <td>5037,277795</td>\n",
       "      <td>15202,25308</td>\n",
       "      <td>7,811454718</td>\n",
       "      <td>14,4</td>\n",
       "      <td>112484,9479</td>\n",
       "      <td>15.6.2018</td>\n",
       "      <td>15.10.2018</td>\n",
       "    </tr>\n",
       "    <tr>\n",
       "      <th>1</th>\n",
       "      <td>G-1/2</td>\n",
       "      <td>23,01</td>\n",
       "      <td>2018</td>\n",
       "      <td>Barley</td>\n",
       "      <td>0</td>\n",
       "      <td>Salamandre</td>\n",
       "      <td>Maize</td>\n",
       "      <td>46</td>\n",
       "      <td>0</td>\n",
       "      <td>238,6363636</td>\n",
       "      <td>...</td>\n",
       "      <td>0</td>\n",
       "      <td>11762,74</td>\n",
       "      <td>8594,30605</td>\n",
       "      <td>7079,225979</td>\n",
       "      <td>1435</td>\n",
       "      <td>7,146352313</td>\n",
       "      <td>15,8</td>\n",
       "      <td>112912,3665</td>\n",
       "      <td>28.9.2017</td>\n",
       "      <td>5.6.2018</td>\n",
       "    </tr>\n",
       "    <tr>\n",
       "      <th>2</th>\n",
       "      <td>G-2/1</td>\n",
       "      <td>94,88</td>\n",
       "      <td>2018</td>\n",
       "      <td>Soybean</td>\n",
       "      <td>0</td>\n",
       "      <td>Gorstak</td>\n",
       "      <td>Maize</td>\n",
       "      <td>100,33</td>\n",
       "      <td>0</td>\n",
       "      <td>214,6331148</td>\n",
       "      <td>...</td>\n",
       "      <td>9000</td>\n",
       "      <td>11549,5</td>\n",
       "      <td>10191,21689</td>\n",
       "      <td>7146,257137</td>\n",
       "      <td>11843,41404</td>\n",
       "      <td>3,388877141</td>\n",
       "      <td>37,35</td>\n",
       "      <td>126574,5612</td>\n",
       "      <td>19.4.2018</td>\n",
       "      <td>13.9.2018</td>\n",
       "    </tr>\n",
       "    <tr>\n",
       "      <th>3</th>\n",
       "      <td>G-2/2</td>\n",
       "      <td>20,59</td>\n",
       "      <td>2018</td>\n",
       "      <td>Soybean</td>\n",
       "      <td>0</td>\n",
       "      <td>Wendy</td>\n",
       "      <td>Maize</td>\n",
       "      <td>93,15</td>\n",
       "      <td>0</td>\n",
       "      <td>140,8450704</td>\n",
       "      <td>...</td>\n",
       "      <td>0</td>\n",
       "      <td>11571,08</td>\n",
       "      <td>5428,848956</td>\n",
       "      <td>4776,056338</td>\n",
       "      <td>12594,37882</td>\n",
       "      <td>3,71296746</td>\n",
       "      <td>37,35</td>\n",
       "      <td>138679,3346</td>\n",
       "      <td>17.4.2018</td>\n",
       "      <td>14.9.2018</td>\n",
       "    </tr>\n",
       "    <tr>\n",
       "      <th>4</th>\n",
       "      <td>G-3/1</td>\n",
       "      <td>63,62</td>\n",
       "      <td>2018</td>\n",
       "      <td>Maize</td>\n",
       "      <td>0</td>\n",
       "      <td>DKC 5830</td>\n",
       "      <td>Wheat</td>\n",
       "      <td>60</td>\n",
       "      <td>1,886199308</td>\n",
       "      <td>474,6934926</td>\n",
       "      <td>...</td>\n",
       "      <td>9000</td>\n",
       "      <td>12801,04</td>\n",
       "      <td>19899,77051</td>\n",
       "      <td>19745,51399</td>\n",
       "      <td>4947,696479</td>\n",
       "      <td>14,60232631</td>\n",
       "      <td>14,4</td>\n",
       "      <td>210273,4989</td>\n",
       "      <td>17.4.2018</td>\n",
       "      <td>14.9.2018</td>\n",
       "    </tr>\n",
       "  </tbody>\n",
       "</table>\n",
       "<p>5 rows × 25 columns</p>\n",
       "</div>"
      ],
      "text/plain": [
       "  Parcel   Area  Year     Crop  Seed production     Variety Previous crop  \\\n",
       "0  G-1/1  63,38  2018    Maize                0      NS 205         Maize   \n",
       "1  G-1/2  23,01  2018   Barley                0  Salamandre         Maize   \n",
       "2  G-2/1  94,88  2018  Soybean                0     Gorstak         Maize   \n",
       "3  G-2/2  20,59  2018  Soybean                0       Wendy         Maize   \n",
       "4  G-3/1  63,62  2018    Maize                0    DKC 5830         Wheat   \n",
       "\n",
       "  Seed units       Manure Fertiliser amount     ...      Irrigation   Harvest  \\\n",
       "0        184            0        237,719575     ...            9000  11853,74   \n",
       "1         46            0       238,6363636     ...               0  11762,74   \n",
       "2     100,33            0       214,6331148     ...            9000   11549,5   \n",
       "3      93,15            0       140,8450704     ...               0  11571,08   \n",
       "4         60  1,886199308       474,6934926     ...            9000  12801,04   \n",
       "\n",
       "          Seed   Fertiliser    Pesticide        Yield  Price      Revenue  \\\n",
       "0         9450  5037,277795  15202,25308  7,811454718   14,4  112484,9479   \n",
       "1   8594,30605  7079,225979         1435  7,146352313   15,8  112912,3665   \n",
       "2  10191,21689  7146,257137  11843,41404  3,388877141  37,35  126574,5612   \n",
       "3  5428,848956  4776,056338  12594,37882   3,71296746  37,35  138679,3346   \n",
       "4  19899,77051  19745,51399  4947,696479  14,60232631   14,4  210273,4989   \n",
       "\n",
       "  Planting date Harvest date  \n",
       "0     15.6.2018   15.10.2018  \n",
       "1     28.9.2017     5.6.2018  \n",
       "2     19.4.2018    13.9.2018  \n",
       "3     17.4.2018    14.9.2018  \n",
       "4     17.4.2018    14.9.2018  \n",
       "\n",
       "[5 rows x 25 columns]"
      ]
     },
     "execution_count": 3,
     "metadata": {},
     "output_type": "execute_result"
    }
   ],
   "source": [
    "data = pd.read_csv('database_biosense.csv',header=0, delimiter=';',skiprows=1)\n",
    "data.head()"
   ]
  },
  {
   "cell_type": "code",
   "execution_count": 4,
   "metadata": {},
   "outputs": [
    {
     "data": {
      "text/plain": [
       "Parcel                    False\n",
       "Area                      False\n",
       "Year                      False\n",
       "Crop                      False\n",
       "Seed production           False\n",
       "Variety                    True\n",
       "Previous crop              True\n",
       "Seed units                 True\n",
       "Manure                    False\n",
       "Fertiliser amount         False\n",
       "Pesticide amount          False\n",
       "Tillage                   False\n",
       "Sowing                    False\n",
       "Fertiliser application    False\n",
       "Pesticide application     False\n",
       "Irrigation                False\n",
       "Harvest                   False\n",
       "Seed                      False\n",
       "Fertiliser                False\n",
       "Pesticide                 False\n",
       "Yield                     False\n",
       "Price                     False\n",
       "Revenue                   False\n",
       "Planting date              True\n",
       "Harvest date               True\n",
       "dtype: bool"
      ]
     },
     "execution_count": 4,
     "metadata": {},
     "output_type": "execute_result"
    }
   ],
   "source": [
    "data.isnull().any()"
   ]
  },
  {
   "cell_type": "code",
   "execution_count": 5,
   "metadata": {},
   "outputs": [],
   "source": [
    "data.fillna({'Variety':'None','Previous crop': 'None', 'Seed units': '0'}, inplace=True)"
   ]
  },
  {
   "cell_type": "code",
   "execution_count": 6,
   "metadata": {},
   "outputs": [],
   "source": [
    "convert_todot = lambda x: float(x.replace(',','.'))"
   ]
  },
  {
   "cell_type": "code",
   "execution_count": 7,
   "metadata": {},
   "outputs": [],
   "source": [
    "data['Area'] = data['Area'].apply(convert_todot)"
   ]
  },
  {
   "cell_type": "code",
   "execution_count": 8,
   "metadata": {},
   "outputs": [],
   "source": [
    "for i in list(data)[7:23]:\n",
    "    try:\n",
    "        data[i] = data[i].apply(convert_todot)\n",
    "    except ValueError:\n",
    "        continue"
   ]
  },
  {
   "cell_type": "code",
   "execution_count": 9,
   "metadata": {},
   "outputs": [],
   "source": [
    "drop = data['Planting date'].dropna()\n",
    "i1 = list(drop.index.values)\n",
    "dfdates = data.loc[i1]"
   ]
  },
  {
   "cell_type": "code",
   "execution_count": 10,
   "metadata": {},
   "outputs": [],
   "source": [
    "drop2 = dfdates['Harvest date'].dropna()\n",
    "i2 = list(drop2.index.values)\n",
    "dfdates = dfdates.loc[i2]"
   ]
  },
  {
   "cell_type": "code",
   "execution_count": 11,
   "metadata": {},
   "outputs": [],
   "source": [
    "convert_date = lambda x: datetime.datetime.strptime(str(x), '%d.%m.%Y')"
   ]
  },
  {
   "cell_type": "code",
   "execution_count": 12,
   "metadata": {},
   "outputs": [],
   "source": [
    "dfdates['Planting date'] = dfdates['Planting date'].apply(convert_date)\n",
    "dfdates['Harvest date'] = dfdates['Harvest date'].apply(convert_date)"
   ]
  },
  {
   "cell_type": "code",
   "execution_count": 13,
   "metadata": {},
   "outputs": [
    {
     "data": {
      "text/plain": [
       "['Maize',\n",
       " 'Barley',\n",
       " 'Soybean',\n",
       " 'Wheat',\n",
       " 'Sunflower',\n",
       " 'Oilseed rape',\n",
       " '2nd soybean']"
      ]
     },
     "execution_count": 13,
     "metadata": {},
     "output_type": "execute_result"
    }
   ],
   "source": [
    "crops = list(data['Crop'].unique())\n",
    "crops"
   ]
  },
  {
   "cell_type": "code",
   "execution_count": 14,
   "metadata": {},
   "outputs": [],
   "source": [
    "n = len(crops)"
   ]
  },
  {
   "cell_type": "code",
   "execution_count": null,
   "metadata": {},
   "outputs": [],
   "source": [
    "def plot_ph_date(dfdates,i):\n",
    "    crop = list(dfdates['Crop'].unique())\n",
    "    fig = plt.figure(figsize=(12,10))\n",
    "    gs = gridspec.GridSpec(2,2)\n",
    "    df = dfdates[dfdates['Crop']==crop[i]]\n",
    "    \n",
    "    dates = ['Planting date','Harvest date']\n",
    "    \n",
    "    ax1 = fig.add_subplot(gs[0,:])\n",
    "    ax1.hist(df['Planting date'],color='darkgreen')\n",
    "    ax1.hist(df['Harvest date'],color='darkorange')\n",
    "    \n",
    "        \n",
    "    index_planting = [k for k in df[dates[0]].index.values if df.loc[k,dates[0]].year == 2017]\n",
    "    index_harvest = [k for k in df[dates[1]].index.values if df.loc[k,dates[1]].year == 2017]\n",
    "    title = '2017.'\n",
    "    \n",
    "    if crop[i] == 'Barley':\n",
    "        index_harvest = [k for k in df[dates[1]].index.values if df.loc[k,dates[1]].year == 2018]\n",
    "        ax1.clear()\n",
    "        ax1.hist(df['Planting date'],color='darkgreen')\n",
    "        ax1.hist(df['Harvest date'],bins=2,color='darkorange')\n",
    "        title = '2018.'\n",
    "    if crop[i] == '2nd soybean':\n",
    "        ax1.clear()\n",
    "        ax1.hist(df['Planting date'],bins=4,color='darkgreen')\n",
    "        ax1.hist(df['Harvest date'],bins=4,color='darkorange')\n",
    "    ax1.set_ylabel('counts',fontsize=16)\n",
    "    ax1.legend()\n",
    "    ax1.grid(axis='y',color='lightgrey',alpha=0.5)\n",
    "    ax1.set_facecolor('w')\n",
    "    \n",
    "    y = ax1.get_yticks()\n",
    "    if max(y) < 8:\n",
    "        yint = range(math.floor(min(y)), math.ceil(max(y)))\n",
    "    else:\n",
    "        yint = range(math.floor(min(y)), math.ceil(max(y))+1,4)\n",
    "    ax1.set_yticks(yint)\n",
    "    \n",
    "    p_dates = df[dates[0]].loc[index_planting]\n",
    "    h_dates = df[dates[1]].loc[index_harvest]\n",
    "    \n",
    "    \n",
    "    ax = fig.add_subplot(gs[1,0])\n",
    "    ax.hist(p_dates.values,color='darkgreen')\n",
    "    ax.set_title('Distribution of '+dates[0]+' for 2017. year')\n",
    "    ax.set_ylabel('counts',fontsize=10)\n",
    "    ax.set_xlabel(dates[0], fontsize=10)\n",
    "    ax.grid(axis='y',color='lightgrey',alpha=0.5)\n",
    "    ax.set_facecolor('w')\n",
    "    \n",
    "    y = ax.get_yticks()\n",
    "    if max(y) <= 5:\n",
    "        yint = range(math.floor(min(y)), math.ceil(max(y)))\n",
    "    else:\n",
    "        yint = range(math.floor(min(y)), math.ceil(max(y))+1,2)\n",
    "    ax.set_yticks(yint)\n",
    "    \n",
    "    for tick in ax.get_xticklabels():\n",
    "        tick.set_rotation(55)\n",
    "        \n",
    "    ax2 = fig.add_subplot(gs[1,1])\n",
    "    ax2.hist(h_dates.values,color='darkorange')\n",
    "    ax2.set_title('Distribution of '+dates[1]+' for '+title+' year')\n",
    "    ax2.set_ylabel('counts',fontsize=10)\n",
    "    ax2.set_xlabel(dates[1], fontsize=10)\n",
    "    ax2.grid(axis='y',color='lightgrey',alpha=0.5)\n",
    "    ax2.set_facecolor('w')\n",
    "    \n",
    "    y = ax2.get_yticks()\n",
    "    if max(y) <= 5:\n",
    "        yint = range(math.floor(min(y)), math.ceil(max(y)))\n",
    "    else:\n",
    "        yint = range(math.floor(min(y)), math.ceil(max(y))+1,2)\n",
    "    ax2.set_yticks(yint)\n",
    "    \n",
    "    for tick in ax2.get_xticklabels():\n",
    "        tick.set_rotation(55)\n",
    "        \n",
    "    pd = np.arange(p_dates.min()-datetime.timedelta(days=10),p_dates.max()+datetime.timedelta(days=10),datetime.timedelta(days=1)) \n",
    "    hd = np.arange(h_dates.min()-datetime.timedelta(days=10),h_dates.max()+datetime.timedelta(days=10),datetime.timedelta(days=1))\n",
    "\n",
    "    ax.set_xticklabels([str(d)[:10] for d in pd])\n",
    "    ax2.set_xticklabels([str(d)[:10] for d in hd])\n",
    "    \n",
    "    fig.align_labels()\n",
    "    fig.suptitle(crop[i], fontsize = 30, y=0.99, fontweight='bold')\n",
    "    fig.tight_layout()\n",
    "    plt.subplots_adjust(top=0.92, bottom=0.08, left=0.10, right=0.95, hspace=0.3, wspace=0.35)\n",
    "    plt.savefig(crop[i]+\".png\", dpi=100,bbox_inches='tight',transparent=True)\n",
    "    plt.show()\n",
    "    "
   ]
  },
  {
   "cell_type": "code",
   "execution_count": null,
   "metadata": {},
   "outputs": [],
   "source": [
    "plot_ph_date(dfdates,0)"
   ]
  },
  {
   "cell_type": "code",
   "execution_count": null,
   "metadata": {},
   "outputs": [],
   "source": [
    "for i in range(n):\n",
    "    plot_ph_date(dfdates,i)"
   ]
  },
  {
   "cell_type": "code",
   "execution_count": null,
   "metadata": {},
   "outputs": [],
   "source": [
    "def plot_yield(data,i):\n",
    "    crop = list(data['Crop'].unique())\n",
    "    \n",
    "    df2 = data[data['Crop']==crop[i]]\n",
    "    \n",
    "    df16 = df2[df2['Year'] == 2016]\n",
    "    std16 = np.std(df16['Yield'])\n",
    "    df17 = df2[df2['Year'] == 2017]\n",
    "    std17 = np.std(df17['Yield'])\n",
    "    df18 = df2[df2['Year'] == 2018]\n",
    "    std18 = np.std(df18['Yield'])    \n",
    "    \n",
    "    box_line_col = ['steelblue','darkorange','darkgreen']\n",
    "    if df16.shape[0] <= 2:\n",
    "        df2 = df2.query('Year == 2017 or Year == 2018')\n",
    "        box_line_col = ['steelblue','darkorange']\n",
    "    if df17.shape[0] <= 2:\n",
    "        df2 = df2.query('Year == 2016 or Year == 2018')\n",
    "        box_line_col = ['steelblue','darkorange']\n",
    "        if df16.shape[0] <= 2:\n",
    "            box_line_col = ['steelblue']\n",
    "            \n",
    "    if df18.shape[0] <= 2:\n",
    "        df2 = df2.query('Year == 2017 or Year == 2016')\n",
    "        box_line_col = ['steelblue','darkgreen']\n",
    "        if df17.shape[0] <= 2:\n",
    "            box_line_col = ['darkorange']\n",
    "    \n",
    "    if df2.shape[0] <= 2:\n",
    "        fig = plt.figure(figsize=(10,1))\n",
    "        ax = fig.add_subplot(111)\n",
    "        ax.text(0.1,1.5,'A little bit of data for '+crop[i]+'! Please expand your database.',fontsize=20,fontweight='bold',color='r')\n",
    "        plt.axis('off')\n",
    "    else:\n",
    "        fig2 = plt.figure(figsize=(10,5))\n",
    "        ax = fig2.add_subplot(1,1,1)\n",
    "        palette = [\"lightsteelblue\", \"navajowhite\", \"lightgreen\"]\n",
    "        sns.boxplot(x='Year',y='Yield',data=df2,palette=palette)\n",
    "        ax.grid(axis='y',color='darkgray')\n",
    "        ax.spines['right'].set_visible(False)\n",
    "        ax.spines['top'].set_visible(False)\n",
    "        ax.spines['bottom'].set_visible(False)\n",
    "        ax.spines['left'].set_color('darkgray')\n",
    "    \n",
    "    \n",
    "    \n",
    "        for j,col in enumerate(box_line_col):\n",
    "            mybox = ax.artists[j]\n",
    "            mybox.set_edgecolor(col)\n",
    "            for k in range(j*6,j*6+6):\n",
    "                line = ax.lines[k]\n",
    "                line.set_color(col)\n",
    "                line.set_mfc(col)\n",
    "                line.set_mec(col)\n",
    "    \n",
    "        text = '\\n'.join(('Variability of yield:',\"\\u2022 std 2016: \"+str(round(std16,2)), '\\u2022 std 2017: '+str(round(std17,2)),\n",
    "                      '\\u2022 std 2018: '+str(round(std18,2))))\n",
    "        props = dict(boxstyle='round',facecolor='white', edgecolor='darkgreen', alpha=0.5,pad=0.5)\n",
    "        plt.figtext(0.99, 0.4,text,family='sans-serif', color='k', fontsize=13, bbox=props)\n",
    "    \n",
    "        fig2.tight_layout()\n",
    "        fig2.suptitle(crop[i],x=0.5,y=1.05,fontsize=20,fontweight='bold')\n",
    "        plt.savefig(crop[i]+\".png\", dpi=100,bbox_inches='tight',transparent=True)\n",
    "        plt.show()"
   ]
  },
  {
   "cell_type": "code",
   "execution_count": null,
   "metadata": {},
   "outputs": [],
   "source": [
    "plot_yield(data,0)"
   ]
  },
  {
   "cell_type": "code",
   "execution_count": null,
   "metadata": {},
   "outputs": [],
   "source": [
    "for i in range(n):\n",
    "    plot_yield(data,i)"
   ]
  },
  {
   "cell_type": "code",
   "execution_count": null,
   "metadata": {},
   "outputs": [],
   "source": [
    "def func(pct, allvals):\n",
    "    percent = float((100*pct)/allvals.sum())\n",
    "    return \"{:.2f}%\".format(pct,percent)"
   ]
  },
  {
   "cell_type": "code",
   "execution_count": null,
   "metadata": {},
   "outputs": [],
   "source": [
    "for i in range(n):\n",
    "    \n",
    "    df5 = data[data['Crop'] == crops[i]]\n",
    "    length = len(df5['Variety'].unique())\n",
    "    \n",
    "    if length>4:\n",
    "        fig5 = plt.figure(figsize=(8,8))\n",
    "        ax5 = fig5.add_subplot(111)\n",
    "    \n",
    "        vc = df5['Variety'].value_counts()\n",
    "        sort = vc.sort_values(ascending=False)\n",
    "        ssum = sort.sum()\n",
    "        pie = sort.iloc[:5]\n",
    "        pie = pie.append(pd.Series([ssum-pie.sum()],index=['Others']))\n",
    "        \n",
    "        wedges, texts, autotexts = ax5.pie(x=pie,autopct=lambda pct: func(pct, pie),radius=0.8)\n",
    "        plt.setp(autotexts,fontsize=13,fontweight='bold', color='w')\n",
    "        \n",
    "        ax5.legend(loc=0,labels=list(pie.index.values),fontsize=15)\n",
    "    \n",
    "        props = dict(facecolor='white',edgecolor='dimgrey',alpha=0.5,pad=10)\n",
    "        text = 'Planted unique varieties: '+str(length)\n",
    "        plt.figtext(0.1,0.87,text,bbox=props,fontsize=15,va='top', ha='left')\n",
    "        \n",
    "        ax5.axis('off')\n",
    "        \n",
    "        fig5.suptitle(crops[i],x=0.5,y=1,fontsize=40,fontweight='medium')\n",
    "        plt.savefig(crops[i]+\"_varieties.png\", dpi=360,transparent=True)\n",
    "        fig5.tight_layout()\n",
    "plt.show()"
   ]
  },
  {
   "cell_type": "code",
   "execution_count": 15,
   "metadata": {},
   "outputs": [
    {
     "data": {
      "text/html": [
       "<div>\n",
       "<style scoped>\n",
       "    .dataframe tbody tr th:only-of-type {\n",
       "        vertical-align: middle;\n",
       "    }\n",
       "\n",
       "    .dataframe tbody tr th {\n",
       "        vertical-align: top;\n",
       "    }\n",
       "\n",
       "    .dataframe thead th {\n",
       "        text-align: right;\n",
       "    }\n",
       "</style>\n",
       "<table border=\"1\" class=\"dataframe\">\n",
       "  <thead>\n",
       "    <tr style=\"text-align: right;\">\n",
       "      <th>Crop</th>\n",
       "      <th>2nd soybean</th>\n",
       "      <th>Barley</th>\n",
       "      <th>Maize</th>\n",
       "      <th>Oilseed rape</th>\n",
       "      <th>Soybean</th>\n",
       "      <th>Sunflower</th>\n",
       "      <th>Wheat</th>\n",
       "      <th>All</th>\n",
       "    </tr>\n",
       "    <tr>\n",
       "      <th>Previous crop</th>\n",
       "      <th></th>\n",
       "      <th></th>\n",
       "      <th></th>\n",
       "      <th></th>\n",
       "      <th></th>\n",
       "      <th></th>\n",
       "      <th></th>\n",
       "      <th></th>\n",
       "    </tr>\n",
       "  </thead>\n",
       "  <tbody>\n",
       "    <tr>\n",
       "      <th>Maize</th>\n",
       "      <td>0</td>\n",
       "      <td>1</td>\n",
       "      <td>1</td>\n",
       "      <td>0</td>\n",
       "      <td>10</td>\n",
       "      <td>8</td>\n",
       "      <td>15</td>\n",
       "      <td>35</td>\n",
       "    </tr>\n",
       "    <tr>\n",
       "      <th>None</th>\n",
       "      <td>0</td>\n",
       "      <td>1</td>\n",
       "      <td>30</td>\n",
       "      <td>0</td>\n",
       "      <td>6</td>\n",
       "      <td>38</td>\n",
       "      <td>19</td>\n",
       "      <td>94</td>\n",
       "    </tr>\n",
       "    <tr>\n",
       "      <th>Oilseed rape</th>\n",
       "      <td>0</td>\n",
       "      <td>0</td>\n",
       "      <td>0</td>\n",
       "      <td>0</td>\n",
       "      <td>0</td>\n",
       "      <td>0</td>\n",
       "      <td>1</td>\n",
       "      <td>1</td>\n",
       "    </tr>\n",
       "    <tr>\n",
       "      <th>Soybean</th>\n",
       "      <td>0</td>\n",
       "      <td>0</td>\n",
       "      <td>12</td>\n",
       "      <td>0</td>\n",
       "      <td>0</td>\n",
       "      <td>0</td>\n",
       "      <td>0</td>\n",
       "      <td>12</td>\n",
       "    </tr>\n",
       "    <tr>\n",
       "      <th>Sunflower</th>\n",
       "      <td>0</td>\n",
       "      <td>0</td>\n",
       "      <td>9</td>\n",
       "      <td>0</td>\n",
       "      <td>0</td>\n",
       "      <td>0</td>\n",
       "      <td>15</td>\n",
       "      <td>24</td>\n",
       "    </tr>\n",
       "    <tr>\n",
       "      <th>Wheat</th>\n",
       "      <td>1</td>\n",
       "      <td>0</td>\n",
       "      <td>16</td>\n",
       "      <td>5</td>\n",
       "      <td>2</td>\n",
       "      <td>7</td>\n",
       "      <td>0</td>\n",
       "      <td>31</td>\n",
       "    </tr>\n",
       "    <tr>\n",
       "      <th>All</th>\n",
       "      <td>1</td>\n",
       "      <td>2</td>\n",
       "      <td>68</td>\n",
       "      <td>5</td>\n",
       "      <td>18</td>\n",
       "      <td>53</td>\n",
       "      <td>50</td>\n",
       "      <td>197</td>\n",
       "    </tr>\n",
       "  </tbody>\n",
       "</table>\n",
       "</div>"
      ],
      "text/plain": [
       "Crop           2nd soybean  Barley  Maize  Oilseed rape  Soybean  Sunflower  \\\n",
       "Previous crop                                                                 \n",
       "Maize                    0       1      1             0       10          8   \n",
       "None                     0       1     30             0        6         38   \n",
       "Oilseed rape             0       0      0             0        0          0   \n",
       "Soybean                  0       0     12             0        0          0   \n",
       "Sunflower                0       0      9             0        0          0   \n",
       "Wheat                    1       0     16             5        2          7   \n",
       "All                      1       2     68             5       18         53   \n",
       "\n",
       "Crop           Wheat  All  \n",
       "Previous crop              \n",
       "Maize             15   35  \n",
       "None              19   94  \n",
       "Oilseed rape       1    1  \n",
       "Soybean            0   12  \n",
       "Sunflower         15   24  \n",
       "Wheat              0   31  \n",
       "All               50  197  "
      ]
     },
     "execution_count": 15,
     "metadata": {},
     "output_type": "execute_result"
    }
   ],
   "source": [
    "pivot = data[['Crop','Previous crop']].pivot_table(index='Previous crop', columns='Crop',aggfunc=len,fill_value=0,margins=True)\n",
    "pivot"
   ]
  },
  {
   "cell_type": "code",
   "execution_count": 22,
   "metadata": {},
   "outputs": [
    {
     "data": {
      "text/html": [
       "<style  type=\"text/css\" >\n",
       "    #T_cd6a3d22_393e_11e9_bef8_d89c674c81fc th {\n",
       "          font-size: 100%;\n",
       "          text-align: center;\n",
       "          background-color: olivedrab;\n",
       "          border-left: 0.2px solid black;\n",
       "    }    #T_cd6a3d22_393e_11e9_bef8_d89c674c81fc caption {\n",
       "          text-align: center;\n",
       "          font-weight: bold;\n",
       "          font-size: 150%;\n",
       "    }    #T_cd6a3d22_393e_11e9_bef8_d89c674c81fc td {\n",
       "          font-size: 100%;\n",
       "          text-align: center;\n",
       "          background-color: #cce59a;\n",
       "          border: 0.2px solid black;\n",
       "    }    #T_cd6a3d22_393e_11e9_bef8_d89c674c81fc tbody tr:last-child {\n",
       "          font-weight: bold;\n",
       "    }    #T_cd6a3d22_393e_11e9_bef8_d89c674c81fc tr td:last-child {\n",
       "          font-weight: bold;\n",
       "    }    #T_cd6a3d22_393e_11e9_bef8_d89c674c81fc th:first-child {\n",
       "          border: 0.2px solid black;\n",
       "    }    #T_cd6a3d22_393e_11e9_bef8_d89c674c81fc  {\n",
       "          border-collapse: collapse;\n",
       "          border: 0.2px solid black;\n",
       "    }</style>  \n",
       "<table id=\"T_cd6a3d22_393e_11e9_bef8_d89c674c81fc\" ><caption>Pervious crop - crop pivot table</caption> \n",
       "<thead>    <tr> \n",
       "        <th class=\"index_name level0\" >Crop</th> \n",
       "        <th class=\"col_heading level0 col0\" >2nd soybean</th> \n",
       "        <th class=\"col_heading level0 col1\" >Barley</th> \n",
       "        <th class=\"col_heading level0 col2\" >Maize</th> \n",
       "        <th class=\"col_heading level0 col3\" >Oilseed rape</th> \n",
       "        <th class=\"col_heading level0 col4\" >Soybean</th> \n",
       "        <th class=\"col_heading level0 col5\" >Sunflower</th> \n",
       "        <th class=\"col_heading level0 col6\" >Wheat</th> \n",
       "        <th class=\"col_heading level0 col7\" >All</th> \n",
       "    </tr>    <tr> \n",
       "        <th class=\"index_name level0\" >Previous crop</th> \n",
       "        <th class=\"blank\" ></th> \n",
       "        <th class=\"blank\" ></th> \n",
       "        <th class=\"blank\" ></th> \n",
       "        <th class=\"blank\" ></th> \n",
       "        <th class=\"blank\" ></th> \n",
       "        <th class=\"blank\" ></th> \n",
       "        <th class=\"blank\" ></th> \n",
       "        <th class=\"blank\" ></th> \n",
       "    </tr></thead> \n",
       "<tbody>    <tr> \n",
       "        <th id=\"T_cd6a3d22_393e_11e9_bef8_d89c674c81fclevel0_row0\" class=\"row_heading level0 row0\" >Maize</th> \n",
       "        <td id=\"T_cd6a3d22_393e_11e9_bef8_d89c674c81fcrow0_col0\" class=\"data row0 col0\" >0</td> \n",
       "        <td id=\"T_cd6a3d22_393e_11e9_bef8_d89c674c81fcrow0_col1\" class=\"data row0 col1\" >1</td> \n",
       "        <td id=\"T_cd6a3d22_393e_11e9_bef8_d89c674c81fcrow0_col2\" class=\"data row0 col2\" >1</td> \n",
       "        <td id=\"T_cd6a3d22_393e_11e9_bef8_d89c674c81fcrow0_col3\" class=\"data row0 col3\" >0</td> \n",
       "        <td id=\"T_cd6a3d22_393e_11e9_bef8_d89c674c81fcrow0_col4\" class=\"data row0 col4\" >10</td> \n",
       "        <td id=\"T_cd6a3d22_393e_11e9_bef8_d89c674c81fcrow0_col5\" class=\"data row0 col5\" >8</td> \n",
       "        <td id=\"T_cd6a3d22_393e_11e9_bef8_d89c674c81fcrow0_col6\" class=\"data row0 col6\" >15</td> \n",
       "        <td id=\"T_cd6a3d22_393e_11e9_bef8_d89c674c81fcrow0_col7\" class=\"data row0 col7\" >35</td> \n",
       "    </tr>    <tr> \n",
       "        <th id=\"T_cd6a3d22_393e_11e9_bef8_d89c674c81fclevel0_row1\" class=\"row_heading level0 row1\" >None</th> \n",
       "        <td id=\"T_cd6a3d22_393e_11e9_bef8_d89c674c81fcrow1_col0\" class=\"data row1 col0\" >0</td> \n",
       "        <td id=\"T_cd6a3d22_393e_11e9_bef8_d89c674c81fcrow1_col1\" class=\"data row1 col1\" >1</td> \n",
       "        <td id=\"T_cd6a3d22_393e_11e9_bef8_d89c674c81fcrow1_col2\" class=\"data row1 col2\" >30</td> \n",
       "        <td id=\"T_cd6a3d22_393e_11e9_bef8_d89c674c81fcrow1_col3\" class=\"data row1 col3\" >0</td> \n",
       "        <td id=\"T_cd6a3d22_393e_11e9_bef8_d89c674c81fcrow1_col4\" class=\"data row1 col4\" >6</td> \n",
       "        <td id=\"T_cd6a3d22_393e_11e9_bef8_d89c674c81fcrow1_col5\" class=\"data row1 col5\" >38</td> \n",
       "        <td id=\"T_cd6a3d22_393e_11e9_bef8_d89c674c81fcrow1_col6\" class=\"data row1 col6\" >19</td> \n",
       "        <td id=\"T_cd6a3d22_393e_11e9_bef8_d89c674c81fcrow1_col7\" class=\"data row1 col7\" >94</td> \n",
       "    </tr>    <tr> \n",
       "        <th id=\"T_cd6a3d22_393e_11e9_bef8_d89c674c81fclevel0_row2\" class=\"row_heading level0 row2\" >Oilseed rape</th> \n",
       "        <td id=\"T_cd6a3d22_393e_11e9_bef8_d89c674c81fcrow2_col0\" class=\"data row2 col0\" >0</td> \n",
       "        <td id=\"T_cd6a3d22_393e_11e9_bef8_d89c674c81fcrow2_col1\" class=\"data row2 col1\" >0</td> \n",
       "        <td id=\"T_cd6a3d22_393e_11e9_bef8_d89c674c81fcrow2_col2\" class=\"data row2 col2\" >0</td> \n",
       "        <td id=\"T_cd6a3d22_393e_11e9_bef8_d89c674c81fcrow2_col3\" class=\"data row2 col3\" >0</td> \n",
       "        <td id=\"T_cd6a3d22_393e_11e9_bef8_d89c674c81fcrow2_col4\" class=\"data row2 col4\" >0</td> \n",
       "        <td id=\"T_cd6a3d22_393e_11e9_bef8_d89c674c81fcrow2_col5\" class=\"data row2 col5\" >0</td> \n",
       "        <td id=\"T_cd6a3d22_393e_11e9_bef8_d89c674c81fcrow2_col6\" class=\"data row2 col6\" >1</td> \n",
       "        <td id=\"T_cd6a3d22_393e_11e9_bef8_d89c674c81fcrow2_col7\" class=\"data row2 col7\" >1</td> \n",
       "    </tr>    <tr> \n",
       "        <th id=\"T_cd6a3d22_393e_11e9_bef8_d89c674c81fclevel0_row3\" class=\"row_heading level0 row3\" >Soybean</th> \n",
       "        <td id=\"T_cd6a3d22_393e_11e9_bef8_d89c674c81fcrow3_col0\" class=\"data row3 col0\" >0</td> \n",
       "        <td id=\"T_cd6a3d22_393e_11e9_bef8_d89c674c81fcrow3_col1\" class=\"data row3 col1\" >0</td> \n",
       "        <td id=\"T_cd6a3d22_393e_11e9_bef8_d89c674c81fcrow3_col2\" class=\"data row3 col2\" >12</td> \n",
       "        <td id=\"T_cd6a3d22_393e_11e9_bef8_d89c674c81fcrow3_col3\" class=\"data row3 col3\" >0</td> \n",
       "        <td id=\"T_cd6a3d22_393e_11e9_bef8_d89c674c81fcrow3_col4\" class=\"data row3 col4\" >0</td> \n",
       "        <td id=\"T_cd6a3d22_393e_11e9_bef8_d89c674c81fcrow3_col5\" class=\"data row3 col5\" >0</td> \n",
       "        <td id=\"T_cd6a3d22_393e_11e9_bef8_d89c674c81fcrow3_col6\" class=\"data row3 col6\" >0</td> \n",
       "        <td id=\"T_cd6a3d22_393e_11e9_bef8_d89c674c81fcrow3_col7\" class=\"data row3 col7\" >12</td> \n",
       "    </tr>    <tr> \n",
       "        <th id=\"T_cd6a3d22_393e_11e9_bef8_d89c674c81fclevel0_row4\" class=\"row_heading level0 row4\" >Sunflower</th> \n",
       "        <td id=\"T_cd6a3d22_393e_11e9_bef8_d89c674c81fcrow4_col0\" class=\"data row4 col0\" >0</td> \n",
       "        <td id=\"T_cd6a3d22_393e_11e9_bef8_d89c674c81fcrow4_col1\" class=\"data row4 col1\" >0</td> \n",
       "        <td id=\"T_cd6a3d22_393e_11e9_bef8_d89c674c81fcrow4_col2\" class=\"data row4 col2\" >9</td> \n",
       "        <td id=\"T_cd6a3d22_393e_11e9_bef8_d89c674c81fcrow4_col3\" class=\"data row4 col3\" >0</td> \n",
       "        <td id=\"T_cd6a3d22_393e_11e9_bef8_d89c674c81fcrow4_col4\" class=\"data row4 col4\" >0</td> \n",
       "        <td id=\"T_cd6a3d22_393e_11e9_bef8_d89c674c81fcrow4_col5\" class=\"data row4 col5\" >0</td> \n",
       "        <td id=\"T_cd6a3d22_393e_11e9_bef8_d89c674c81fcrow4_col6\" class=\"data row4 col6\" >15</td> \n",
       "        <td id=\"T_cd6a3d22_393e_11e9_bef8_d89c674c81fcrow4_col7\" class=\"data row4 col7\" >24</td> \n",
       "    </tr>    <tr> \n",
       "        <th id=\"T_cd6a3d22_393e_11e9_bef8_d89c674c81fclevel0_row5\" class=\"row_heading level0 row5\" >Wheat</th> \n",
       "        <td id=\"T_cd6a3d22_393e_11e9_bef8_d89c674c81fcrow5_col0\" class=\"data row5 col0\" >1</td> \n",
       "        <td id=\"T_cd6a3d22_393e_11e9_bef8_d89c674c81fcrow5_col1\" class=\"data row5 col1\" >0</td> \n",
       "        <td id=\"T_cd6a3d22_393e_11e9_bef8_d89c674c81fcrow5_col2\" class=\"data row5 col2\" >16</td> \n",
       "        <td id=\"T_cd6a3d22_393e_11e9_bef8_d89c674c81fcrow5_col3\" class=\"data row5 col3\" >5</td> \n",
       "        <td id=\"T_cd6a3d22_393e_11e9_bef8_d89c674c81fcrow5_col4\" class=\"data row5 col4\" >2</td> \n",
       "        <td id=\"T_cd6a3d22_393e_11e9_bef8_d89c674c81fcrow5_col5\" class=\"data row5 col5\" >7</td> \n",
       "        <td id=\"T_cd6a3d22_393e_11e9_bef8_d89c674c81fcrow5_col6\" class=\"data row5 col6\" >0</td> \n",
       "        <td id=\"T_cd6a3d22_393e_11e9_bef8_d89c674c81fcrow5_col7\" class=\"data row5 col7\" >31</td> \n",
       "    </tr>    <tr> \n",
       "        <th id=\"T_cd6a3d22_393e_11e9_bef8_d89c674c81fclevel0_row6\" class=\"row_heading level0 row6\" >All</th> \n",
       "        <td id=\"T_cd6a3d22_393e_11e9_bef8_d89c674c81fcrow6_col0\" class=\"data row6 col0\" >1</td> \n",
       "        <td id=\"T_cd6a3d22_393e_11e9_bef8_d89c674c81fcrow6_col1\" class=\"data row6 col1\" >2</td> \n",
       "        <td id=\"T_cd6a3d22_393e_11e9_bef8_d89c674c81fcrow6_col2\" class=\"data row6 col2\" >68</td> \n",
       "        <td id=\"T_cd6a3d22_393e_11e9_bef8_d89c674c81fcrow6_col3\" class=\"data row6 col3\" >5</td> \n",
       "        <td id=\"T_cd6a3d22_393e_11e9_bef8_d89c674c81fcrow6_col4\" class=\"data row6 col4\" >18</td> \n",
       "        <td id=\"T_cd6a3d22_393e_11e9_bef8_d89c674c81fcrow6_col5\" class=\"data row6 col5\" >53</td> \n",
       "        <td id=\"T_cd6a3d22_393e_11e9_bef8_d89c674c81fcrow6_col6\" class=\"data row6 col6\" >50</td> \n",
       "        <td id=\"T_cd6a3d22_393e_11e9_bef8_d89c674c81fcrow6_col7\" class=\"data row6 col7\" >197</td> \n",
       "    </tr></tbody> \n",
       "</table> "
      ],
      "text/plain": [
       "<pandas.io.formats.style.Styler at 0x1d079bbc3c8>"
      ]
     },
     "execution_count": 22,
     "metadata": {},
     "output_type": "execute_result"
    }
   ],
   "source": [
    "styles = [dict(selector=\"th\", props=[(\"font-size\", \"100%\"),(\"text-align\", \"center\"),(\"background-color\",\"olivedrab\"),(\"border-left\",\"0.2px solid black\")]),\n",
    "          dict(selector=\"caption\", props=[(\"text-align\",\"center\"),(\"font-weight\",\"bold\"),(\"font-size\",\"150%\")]),\n",
    "         dict(selector=\"td\", props=[(\"font-size\", \"100%\"),(\"text-align\", \"center\"),(\"background-color\",\"#cce59a\"),(\"border\",\"0.2px solid black\")]),\n",
    "          dict(selector=\"tbody tr:last-child\", props=[(\"font-weight\",\"bold\")]),\n",
    "          dict(selector=\"tr td:last-child\", props=[(\"font-weight\",\"bold\")]),\n",
    "          dict(selector=\"th:first-child\", props=[(\"border\",\"0.2px solid black\")]),\n",
    "         dict(selector='',props=[(\"border-collapse\",\"collapse\"),(\"border\",\"0.2px solid black\")])]\n",
    "\n",
    "styler = pivot.style.set_table_styles(styles).set_caption('Pervious crop - crop pivot table')\n",
    "\n",
    "styler"
   ]
  },
  {
   "cell_type": "code",
   "execution_count": 23,
   "metadata": {},
   "outputs": [
    {
     "data": {
      "text/plain": [
       "(129.26015449260603, 8.143347636363078e-11, 42)"
      ]
     },
     "execution_count": 23,
     "metadata": {},
     "output_type": "execute_result"
    }
   ],
   "source": [
    "chi2,p,q,expected = stats.chi2_contingency(pivot)\n",
    "chi2,p,q"
   ]
  },
  {
   "cell_type": "code",
   "execution_count": 32,
   "metadata": {},
   "outputs": [
    {
     "data": {
      "text/plain": [
       "66.20623628399322"
      ]
     },
     "execution_count": 32,
     "metadata": {},
     "output_type": "execute_result"
    }
   ],
   "source": [
    "stats.chi2.ppf(0.99,42)"
   ]
  },
  {
   "cell_type": "code",
   "execution_count": null,
   "metadata": {},
   "outputs": [],
   "source": [
    "cdf(chi2,q)"
   ]
  },
  {
   "cell_type": "code",
   "execution_count": 24,
   "metadata": {},
   "outputs": [],
   "source": [
    "def cdf(x,q):\n",
    "    return 1/(math.pow(2,q/2)*math.gamma(q/2))*math.pow(x,q/2-1)*math.pow(math.e,-x/2)\n",
    "def cdf_array(x,q):\n",
    "    l = []\n",
    "    for i in x:\n",
    "        l.append(float(cdf(i,q)))\n",
    "    return np.array(l)"
   ]
  },
  {
   "cell_type": "code",
   "execution_count": 33,
   "metadata": {},
   "outputs": [
    {
     "name": "stderr",
     "output_type": "stream",
     "text": [
      "C:\\Users\\andr3\\Anaconda3\\lib\\site-packages\\ipykernel_launcher.py:3: DeprecationWarning: object of type <class 'numpy.float64'> cannot be safely interpreted as an integer.\n",
      "  This is separate from the ipykernel package so we can avoid doing imports until\n"
     ]
    },
    {
     "data": {
      "image/png": "[encoded data removed]",
      "text/plain": [
       "<Figure size 1080x576 with 1 Axes>"
      ]
     },
     "metadata": {},
     "output_type": "display_data"
    }
   ],
   "source": [
    "sns.set(style='darkgrid',rc={\"figure.figsize\": (15, 8)})\n",
    "\n",
    "x = np.linspace(0,chi2+20,chi2+20)\n",
    "ax = sns.lineplot(x,cdf_array(x,q),label='chi-squared distribution function',linewidth=3.3)\n",
    "\n",
    "\n",
    "\n",
    "ax.plot([chi2], [cdf(chi2,q)], 'o',markersize=10)\n",
    "ax.text(chi2-5,cdf(chi2,q)-0.002,str(round(chi2,2)))\n",
    "ax.annotate(r'$\\chi^2 $ reg',xy=(chi2,0),xytext=(chi2+1,0.004),arrowprops=dict(facecolor='b', shrink=0.05))\n",
    "\n",
    "alpha = stats.chi2.ppf(0.99,q)\n",
    "ax.fill_between(x,0,cdf_array(x,q),where=x>alpha,color='r')\n",
    "ax.plot([alpha], [0], 'o',markersize=10)\n",
    "ax.text(alpha-2,cdf(chi2,q)-0.002,str(round(stats.chi2.ppf(0.99,q),2)))\n",
    "ax.annotate(r'$ \\alpha $ = 0.01',xy=(alpha,0),xytext=(alpha+5,0.005),fontsize=15,arrowprops=dict(facecolor='b', shrink=0.05))\n",
    "ax.text(90,0.005,'$ H_0 $ rejection region',fontsize=20)\n",
    "\n",
    "if p <= 0.01:\n",
    "    ax.text(100,0.03,'Previous crop and Crop attribute\\n are dependent at level confidence 0.01.',ha='center',wrap=True,fontsize=20)\n",
    "elif p <= 0.05:\n",
    "    ax.text(100,0.03,'Previous crop and Crop attribute are dependent at level confidence 0.05.',ha='center',wrap=True,fontsize=20)\n",
    "else:\n",
    "    ax.text(100,0.03,'Previous crop and Crop attribute are independent.',ha='center',wrap=True,fontsize=20)\n",
    "\n",
    "\"\"\" If the null hypothesis is true, the observed and expected frequencies will be close in value and the χ2 statistic will be \n",
    "close to zero. If the null hypothesis is false, then the χ2 statistic will be large\"\"\"\n",
    "ax.set_title('Chi-squared distribution (q = '+str(q)+') for Previous crop - Crop',fontsize=20,fontweight=5)\n",
    "ax.grid(color='darkgrey',alpha=0.5)\n",
    "ax.spines['right'].set_visible(False)\n",
    "ax.spines['top'].set_visible(False)\n",
    "ax.spines['bottom'].set_color('darkgray')\n",
    "ax.spines['left'].set_color('darkgray')\n",
    "figure = ax.get_figure()\n",
    "figure.savefig('chi2.png',transparent=True)\n",
    "plt.show()"
   ]
  },
  {
   "cell_type": "code",
   "execution_count": null,
   "metadata": {},
   "outputs": [],
   "source": [
    "dfdates['Duration of \\n season (days)'] = dfdates['Harvest date']-dfdates['Planting date']"
   ]
  },
  {
   "cell_type": "code",
   "execution_count": null,
   "metadata": {},
   "outputs": [],
   "source": [
    "dfdates['Duration of \\n season (days)'] = dfdates['Duration of \\n season (days)'].apply(lambda x: float(x.days))\n",
    "dfdates"
   ]
  },
  {
   "cell_type": "code",
   "execution_count": null,
   "metadata": {},
   "outputs": [],
   "source": [
    "def corr(y):    \n",
    "    Z = {}  #for centered attributes vectors\n",
    "    for j in list(y):\n",
    "        mean = y[j].sum()*(1/y[j].shape[0])\n",
    "        Z[j] = [i - mean for i in y[j]] #centered vector for attribute j\n",
    "        \n",
    "    df_dic = {' ': list(y)}\n",
    "    for j in list(y):\n",
    "        Zj = np.array(Z[j])\n",
    "        df_list = []\n",
    "        for i in list(y):\n",
    "            Zi = np.array(Z[i])\n",
    "            norm_Zj = np.linalg.norm(Zj,2)\n",
    "            norm_Zi = np.linalg.norm(Zi,2)\n",
    "            df_list.append(np.dot(np.transpose(Zj/norm_Zj),Zi/norm_Zi)) #corr = cos(teta) for every two attributes i and j\n",
    "        df_dic[j] = df_list #correlations for attribute j relative to all attributes (include corr for j,j) \n",
    "    columns = list(df_dic.keys())\n",
    "    sigmaCorr = pd.DataFrame(df_dic, columns = columns)\n",
    "    sigmaCorr = sigmaCorr.set_index(' ')\n",
    "    sns.set(font_scale=1, rc={\"figure.figsize\": (8, 8)})\n",
    "    ax = sns.heatmap(sigmaCorr, square=True, annot=True,annot_kws={'fontsize': 20},cmap=\"YlGn\")\n",
    "    ax.set_yticklabels(list(y),fontsize=13,rotation=0)\n",
    "    ax.set_xticklabels(list(y),fontsize=13,rotation=90)\n",
    "    plt.title('Heat map for correlation', fontsize='20')\n",
    "    return sigmaCorr"
   ]
  },
  {
   "cell_type": "code",
   "execution_count": null,
   "metadata": {},
   "outputs": [],
   "source": [
    "corr_list = ['Yield','Seed','Fertiliser','Pesticide','Duration of \\n season (days)']"
   ]
  },
  {
   "cell_type": "code",
   "execution_count": null,
   "metadata": {},
   "outputs": [],
   "source": [
    "dfcorr = dfdates[corr_list]\n",
    "for i in corr_list:\n",
    "    for j in dfcorr[i].index.values:\n",
    "        if dfcorr.loc[j,i] == 0:\n",
    "            dfcorr = dfcorr.drop(j,axis=0)"
   ]
  },
  {
   "cell_type": "code",
   "execution_count": null,
   "metadata": {},
   "outputs": [],
   "source": [
    "dfcorr.dtypes"
   ]
  },
  {
   "cell_type": "code",
   "execution_count": null,
   "metadata": {},
   "outputs": [],
   "source": [
    "corr(dfcorr)"
   ]
  },
  {
   "cell_type": "code",
   "execution_count": null,
   "metadata": {},
   "outputs": [],
   "source": [
    "costs = list(data)[11:20]\n",
    "costs"
   ]
  },
  {
   "cell_type": "code",
   "execution_count": null,
   "metadata": {},
   "outputs": [],
   "source": [
    "dfcosts = data[costs]\n",
    "for i in dfcosts['Pesticide application'].index.values:\n",
    "    try:\n",
    "        float(dfcosts.loc[i,'Pesticide application'].replace(',','.'))\n",
    "    except ValueError:\n",
    "        dfcosts = dfcosts.drop(i,axis=0)\n",
    "dfcosts['Pesticide application'] = dfcosts['Pesticide application'].apply(convert_todot)"
   ]
  },
  {
   "cell_type": "code",
   "execution_count": null,
   "metadata": {},
   "outputs": [],
   "source": [
    "data['Profit'] = data['Revenue'] - dfcosts.sum(axis=1)"
   ]
  },
  {
   "cell_type": "code",
   "execution_count": null,
   "metadata": {},
   "outputs": [],
   "source": [
    "sort = data['Profit'].sort_values(ascending=False)"
   ]
  },
  {
   "cell_type": "code",
   "execution_count": null,
   "metadata": {},
   "outputs": [],
   "source": [
    "parcel = []\n",
    "crop_list = []\n",
    "area = []\n",
    "profit = []\n",
    "yield_ = []\n",
    "for i in sort[:5].index.values:\n",
    "    profit += [round(sort.loc[i],2)]\n",
    "    parcel += [data.loc[i,'Parcel']]\n",
    "    crop_list += [data.loc[i,'Crop']]\n",
    "    area += [round(data.loc[i,'Area'],2)]\n",
    "    yield_ += [round(data.loc[i,'Yield']*1000,2)]\n",
    "d = {'Parcel': parcel,'Area (ha)': area,'Crop': crop_list,'Yield (kg/ha)': yield_,'Profit (RSD/ha)': profit}\n",
    "top5 = pd.DataFrame(d,columns=['Parcel','Area (ha)','Crop','Yield (kg/ha)','Profit (RSD/ha)'])\n",
    "top5"
   ]
  },
  {
   "cell_type": "code",
   "execution_count": null,
   "metadata": {},
   "outputs": [],
   "source": [
    "grouped_profit = data['Profit'].groupby(data['Crop'])\n",
    "profit_mean = grouped_profit.mean()\n",
    "profit_mean"
   ]
  },
  {
   "cell_type": "code",
   "execution_count": null,
   "metadata": {},
   "outputs": [],
   "source": [
    "sns.set(style='darkgrid',rc={\"figure.figsize\": (15, 8)})\n",
    "palette=['lightsteelblue','plum','lightgreen','burlywood','lightsalmon','navajowhite','gold']\n",
    "ax = sns.boxplot(x='Crop',y='Profit',data=data[['Crop','Profit']],palette=palette)\n",
    "\n",
    "box_line_col = ['steelblue','indigo','darkgreen','saddlebrown','darkred','darkorange','gold']\n",
    "\n",
    "for j,col in enumerate(box_line_col):\n",
    "    mybox = ax.artists[j]\n",
    "    mybox.set_edgecolor(col)\n",
    "    for k in range(j*6,j*6+6):\n",
    "        line = ax.lines[k]\n",
    "        line.set_color(col)\n",
    "        line.set_mfc(col)\n",
    "        line.set_mec(col)\n",
    "\n",
    "ax.set_ylabel('profit',fontsize=15,style='italic')\n",
    "ax.set_xlabel('crop',fontsize=15,style='italic')\n",
    "ax.set_xticklabels(crops,fontsize=16)\n",
    "\n",
    "ax.set_title('Profit by crop', fontsize=20)\n",
    "plt.show()"
   ]
  },
  {
   "cell_type": "code",
   "execution_count": null,
   "metadata": {},
   "outputs": [],
   "source": [
    "sorted_profit = profit_mean.sort_values(ascending=False)\n",
    "sorted_profit"
   ]
  },
  {
   "cell_type": "code",
   "execution_count": null,
   "metadata": {},
   "outputs": [],
   "source": [
    "profit_std = grouped_profit.std()\n",
    "profit_std"
   ]
  },
  {
   "cell_type": "code",
   "execution_count": null,
   "metadata": {},
   "outputs": [],
   "source": [
    "relative = profit_std.apply(lambda x: x**2)/profit_mean\n",
    "relative"
   ]
  },
  {
   "cell_type": "code",
   "execution_count": null,
   "metadata": {},
   "outputs": [],
   "source": [
    "import statistics\n",
    "df5 = data[data['Crop'] == 'Barley']\n",
    "statistics.variance(df5['Profit'].values)"
   ]
  },
  {
   "cell_type": "code",
   "execution_count": null,
   "metadata": {},
   "outputs": [],
   "source": [
    "sorted_relative = relative.sort_values(ascending=False)\n",
    "sorted_relative"
   ]
  },
  {
   "cell_type": "code",
   "execution_count": null,
   "metadata": {},
   "outputs": [],
   "source": [
    "#fn = {'fontname':'DejaVu Sans'}\n",
    "palette = ['tomato','springgreen','goldenrod','lightgreen','mediumaquamarine','yellowgreen']\n",
    "\n",
    "for i in range(n):\n",
    "    if crops[i] == '2nd soybean':\n",
    "        continue\n",
    "    fig = plt.figure(figsize=(8,8),facecolor=palette[i])\n",
    "    gs = gridspec.GridSpec(2,2)\n",
    "    data2 = data[data['Crop'] == crops[i]]\n",
    "    ax = fig.add_subplot(gs[0,0])\n",
    "    sns.boxplot(x='Crop',y='Profit',data=data2,ax=ax, palette=['burlywood'])\n",
    "    ax.set_facecolor(palette[i])\n",
    "    ax.spines['top'].set_visible(False)\n",
    "    ax.spines['bottom'].set_visible(False)\n",
    "    ax.spines['right'].set_visible(False)\n",
    "    ax.spines['left'].set_color('dimgray')\n",
    "    ax.tick_params(axis='y', colors='k',labelsize=15)\n",
    "    ax.tick_params(axis='x', colors='k',labelsize=15)\n",
    "    plt.ylabel('Profit',fontsize=15)\n",
    "    plt.xlabel('Crop',fontsize=15)\n",
    "    ax.grid(None)\n",
    "    rect = ax.patch\n",
    "    rect.set_facecolor(palette[i])\n",
    "    rect.set_height(2)\n",
    "    rect.set_width(2)\n",
    "    rect.set_xy((0.005,0.005))\n",
    "    plt.figtext(0.6,1,'Mean profit \\n'+str(round(profit_mean[crops[i]],2)),fontsize=30,fontweight='bold')\n",
    "    plt.figtext(0.6,0.8,'Relative profit \\n'+str(round(profit_mean[crops[i]],2)),fontsize=30,fontweight='bold')\n",
    "    \n",
    "    fig.suptitle(crops[i],x=0.3,y=1.3,fontsize=50,fontweight='bold',fontdict=fn)\n",
    "    fig.tight_layout()    \n",
    "plt.show()"
   ]
  },
  {
   "cell_type": "code",
   "execution_count": null,
   "metadata": {},
   "outputs": [],
   "source": [
    "import matplotlib\n",
    "palette = ['tomato','springgreen','goldenrod','lightsteelblue','violet','yellowgreen']\n",
    "fig = plt.figure(figsize=(8,8))\n",
    "gs = gridspec.GridSpec(6,6)\n",
    "for i in range(n):\n",
    "    if crops[i] == '2nd soybean':\n",
    "        continue\n",
    "    ax = fig.add_subplot(gs[0,1])"
   ]
  },
  {
   "cell_type": "code",
   "execution_count": null,
   "metadata": {},
   "outputs": [],
   "source": [
    "print(plt.style.available)"
   ]
  },
  {
   "cell_type": "code",
   "execution_count": null,
   "metadata": {},
   "outputs": [],
   "source": [
    "grouped_fp = data[['Fertiliser amount','Pesticide amount']].groupby(data['Crop'])\n",
    "fp_mean = grouped_fp.mean()\n",
    "fp_mean"
   ]
  },
  {
   "cell_type": "code",
   "execution_count": null,
   "metadata": {},
   "outputs": [],
   "source": [
    "ranked_f = fp_mean.sort_values(by=['Fertiliser amount'],ascending=False)\n",
    "ranked_f"
   ]
  },
  {
   "cell_type": "code",
   "execution_count": null,
   "metadata": {},
   "outputs": [],
   "source": [
    "ranked_p = fp_mean.sort_values(by=['Pesticide amount'],ascending=False)\n",
    "ranked_p"
   ]
  },
  {
   "cell_type": "code",
   "execution_count": null,
   "metadata": {},
   "outputs": [],
   "source": [
    "fig = plt.figure(figsize=(20,8))\n",
    "ax = fig.add_subplot(111)\n",
    "ax2 = ax.twinx()\n",
    "\n",
    "width = 0.4\n",
    "\n",
    "fp_mean['Fertiliser amount'].plot(kind='bar', color='darkgreen', ax=ax, width=width, position=1,rot=0,fontsize=20)\n",
    "fp_mean['Pesticide amount'].plot(kind='bar', color='darkorange', ax=ax2, width=width, position=0,rot=0,fontsize=20)\n",
    "\n",
    "ax.set_ylabel('fertiliser amount (kg/ha)',fontsize=15)\n",
    "ax2.set_ylabel('pesticide amount (kg/ha)',fontsize=15)\n",
    "ax.set_xlabel('crop',fontsize=20)\n",
    "ax.legend(['Fertiliser amount'],loc='upper left', fontsize=15)\n",
    "ax2.legend(['Pesticide amount'],loc='upper right',fontsize=15)\n",
    "ax.set_facecolor('w')\n",
    "ax.grid(axis='y',color='darkgrey')\n",
    "ax2.grid(None)\n",
    "\n",
    "fig.suptitle('Fertiliser and pesticide consumption (kg/ha)',x=0.5,y=1,fontsize=30,fontweight='medium')\n",
    "plt.show()"
   ]
  },
  {
   "cell_type": "code",
   "execution_count": null,
   "metadata": {},
   "outputs": [],
   "source": [
    "grouped_fp_byvar = data[['Fertiliser amount','Pesticide amount']].groupby(data['Variety'])\n",
    "fp_byvar_mean = grouped_fp_byvar.mean()\n",
    "fp_byvar_mean"
   ]
  },
  {
   "cell_type": "code",
   "execution_count": null,
   "metadata": {},
   "outputs": [],
   "source": [
    "top3_var = fp_byvar_mean.sort_values(by=['Pesticide amount'],ascending=True)[:3]\n",
    "top3_var"
   ]
  },
  {
   "cell_type": "code",
   "execution_count": null,
   "metadata": {},
   "outputs": [],
   "source": [
    "top3_var_f = fp_byvar_mean.sort_values(by=['Fertiliser amount'],ascending=True)[:3]\n",
    "top3_var_f"
   ]
  },
  {
   "cell_type": "code",
   "execution_count": null,
   "metadata": {},
   "outputs": [],
   "source": [
    "a = data['Profit'].groupby([data['Crop'],data['Year']]).mean()\n",
    "a"
   ]
  },
  {
   "cell_type": "code",
   "execution_count": null,
   "metadata": {},
   "outputs": [],
   "source": [
    "def func2(pct, allvals):\n",
    "    percent = float((100*pct)/sum(allvals))\n",
    "    return \"{:.2f}%\".format(pct,percent)"
   ]
  },
  {
   "cell_type": "code",
   "execution_count": null,
   "metadata": {},
   "outputs": [],
   "source": [
    "def evaluate_decision(data,command=False):\n",
    "    table = data[['Crop','Previous crop']].pivot_table(index='Previous crop', columns='Crop',aggfunc=len,fill_value=0)\n",
    "    average_profit = data['Profit'].groupby([data['Crop'],data['Year']]).mean()\n",
    "    crops = []\n",
    "    index = list(average_profit.index.values)\n",
    "    good_decision = []\n",
    "    profit = []\n",
    "    num = 0\n",
    "    not_enough_data = 0\n",
    "    for i in range(data.shape[0]):\n",
    "        crop_today = data.loc[i,'Crop']\n",
    "        crop_before = data.loc[i,'Previous crop']\n",
    "        year = data.loc[i,'Year']-1\n",
    "        \n",
    "        profit_today = data.loc[i,'Profit']\n",
    "        oportunities = table.loc[crop_before]\n",
    "        sorted_oportunities = oportunities.sort_values(ascending=False)\n",
    "        \n",
    "        if list(sorted_oportunities.index.values)[0] == crop_today:\n",
    "            crop_tomorrow = list(sorted_oportunities.index.values)[1]\n",
    "        else:\n",
    "            crop_tomorrow = list(sorted_oportunities.index.values)[0]\n",
    "        if (crop_tomorrow,year) in index:\n",
    "            posible_profit = average_profit.xs((crop_tomorrow,year))\n",
    "        else:\n",
    "            year = year - 1\n",
    "            if (crop_tomorrow,year) in index:\n",
    "                posible_profit = average_profit.xs((crop_tomorrow,))\n",
    "            else:\n",
    "                not_enough_data += 1\n",
    "        if profit_today > posible_profit:\n",
    "            good_decision += [data.loc[i,'Parcel']]\n",
    "            crops += [crop_tomorrow]\n",
    "            profit += [posible_profit]\n",
    "        else:\n",
    "            num += 1\n",
    "    \n",
    "    if command == True:\n",
    "        d = {'Parcel': good_decision,'Crop': crops, 'Posible profit': profit}\n",
    "        return pd.DataFrame(d)\n",
    "    else:\n",
    "        return num,not_enough_data,len(good_decision)\n",
    "    "
   ]
  },
  {
   "cell_type": "code",
   "execution_count": null,
   "metadata": {},
   "outputs": [],
   "source": [
    "num, not_enough_data, good = evaluate_decision(data)"
   ]
  },
  {
   "cell_type": "code",
   "execution_count": null,
   "metadata": {},
   "outputs": [],
   "source": [
    "def on_click(event):\n",
    "    if event.dblclick:\n",
    "        evaluate_decision(data,command=True)\n",
    "def _yes(event):\n",
    "    print('yoyo')"
   ]
  },
  {
   "cell_type": "code",
   "execution_count": null,
   "metadata": {},
   "outputs": [],
   "source": [
    "from matplotlib.widgets import Button\n",
    "\n",
    "fig = plt.figure(figsize=(20,10))\n",
    "ax = fig.add_subplot(121)\n",
    "    \n",
    "pie = [num,not_enough_data,good]\n",
    "wedges, texts, autotexts = ax.pie(x=pie, labels=['Decision could be better','Not enough data','Good decision'],\n",
    "                                      autopct=lambda pct: func2(pct, pie),radius=0.8,shadow=True, textprops=dict(color=\"w\"))\n",
    "plt.setp(autotexts,fontsize=20,fontweight='bold', color='w')\n",
    "        \n",
    "ax.set_title('Evaluate decision making',fontdict={'fontsize': 30, 'fontweight': 'medium', 'color': 'k'})\n",
    "ax.legend(loc=1,fontsize=10)\n",
    "props = dict(facecolor='white',edgecolor='dimgrey',alpha=0.5,pad=10)\n",
    "text = \"Parcel with good farmer's decision: \\n\"\n",
    "\"\"\"for parcel in list(good_decision.keys()):\n",
    "text += '\\u2022'+parcel+'\\n'\n",
    "plt.figtext(0.99,0.4,text,bbox=props,fontsize=15,va='top', ha='left')\"\"\"\n",
    "\n",
    "ax.axis('off')\n",
    "\n",
    "plt.connect('button_press_event',on_click)\n",
    "ax6 = fig.add_subplot(122)\n",
    "axparcel = plt.axes([0.7, 0.8, 0.1, 0.075])\n",
    "button = Button(axparcel, 'List of parcel')\n",
    "button.on_clicked(_yes)\n",
    "\n",
    "ax6.axis('off')\n",
    "    \n",
    "\n",
    "plt.show()"
   ]
  },
  {
   "cell_type": "code",
   "execution_count": null,
   "metadata": {},
   "outputs": [],
   "source": []
  }
 ],
 "metadata": {
  "kernelspec": {
   "display_name": "Python 3",
   "language": "python",
   "name": "python3"
  },
  "language_info": {
   "codemirror_mode": {
    "name": "ipython",
    "version": 3
   },
   "file_extension": ".py",
   "mimetype": "text/x-python",
   "name": "python",
   "nbconvert_exporter": "python",
   "pygments_lexer": "ipython3",
   "version": "3.7.0"
  }
 },
 "nbformat": 4,
 "nbformat_minor": 2
}
