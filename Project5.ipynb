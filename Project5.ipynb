{
 "cells": [
  {
   "cell_type": "code",
   "execution_count": 1,
   "metadata": {},
   "outputs": [],
   "source": [
    "import os\n",
    "import numpy as np\n",
    "import pandas as pd\n",
    "from matplotlib import pyplot as plt\n",
    "from scipy import stats\n",
    "import seaborn as sns\n",
    "import math\n",
    "from datetime import datetime"
   ]
  },
  {
   "cell_type": "code",
   "execution_count": 2,
   "metadata": {},
   "outputs": [],
   "source": [
    "os.chdir('D:\\\\Moji fajlovi\\\\Master\\\\prog\\\\Project 5 - Agriculture Data Analysis')"
   ]
  },
  {
   "cell_type": "code",
   "execution_count": 3,
   "metadata": {},
   "outputs": [
    {
     "data": {
      "text/html": [
       "<div>\n",
       "<style scoped>\n",
       "    .dataframe tbody tr th:only-of-type {\n",
       "        vertical-align: middle;\n",
       "    }\n",
       "\n",
       "    .dataframe tbody tr th {\n",
       "        vertical-align: top;\n",
       "    }\n",
       "\n",
       "    .dataframe thead th {\n",
       "        text-align: right;\n",
       "    }\n",
       "</style>\n",
       "<table border=\"1\" class=\"dataframe\">\n",
       "  <thead>\n",
       "    <tr style=\"text-align: right;\">\n",
       "      <th></th>\n",
       "      <th>Parcel</th>\n",
       "      <th>Area</th>\n",
       "      <th>Year</th>\n",
       "      <th>Crop</th>\n",
       "      <th>Seed production</th>\n",
       "      <th>Variety</th>\n",
       "      <th>Previous crop</th>\n",
       "      <th>Seed units</th>\n",
       "      <th>Manure</th>\n",
       "      <th>Fertiliser amount</th>\n",
       "      <th>...</th>\n",
       "      <th>Irrigation</th>\n",
       "      <th>Harvest</th>\n",
       "      <th>Seed</th>\n",
       "      <th>Fertiliser</th>\n",
       "      <th>Pesticide</th>\n",
       "      <th>Yield</th>\n",
       "      <th>Price</th>\n",
       "      <th>Revenue</th>\n",
       "      <th>Planting date</th>\n",
       "      <th>Harvest date</th>\n",
       "    </tr>\n",
       "  </thead>\n",
       "  <tbody>\n",
       "    <tr>\n",
       "      <th>0</th>\n",
       "      <td>G-1/1</td>\n",
       "      <td>63,38</td>\n",
       "      <td>2018</td>\n",
       "      <td>Maize</td>\n",
       "      <td>0</td>\n",
       "      <td>NS 205</td>\n",
       "      <td>Maize</td>\n",
       "      <td>184</td>\n",
       "      <td>0</td>\n",
       "      <td>237,719575</td>\n",
       "      <td>...</td>\n",
       "      <td>9000</td>\n",
       "      <td>11853,74</td>\n",
       "      <td>9450</td>\n",
       "      <td>5037,277795</td>\n",
       "      <td>15202,25308</td>\n",
       "      <td>7,811454718</td>\n",
       "      <td>14,4</td>\n",
       "      <td>112484,9479</td>\n",
       "      <td>15.6.2018</td>\n",
       "      <td>15.10.2018</td>\n",
       "    </tr>\n",
       "    <tr>\n",
       "      <th>1</th>\n",
       "      <td>G-1/2</td>\n",
       "      <td>23,01</td>\n",
       "      <td>2018</td>\n",
       "      <td>Barley</td>\n",
       "      <td>0</td>\n",
       "      <td>Salamandre</td>\n",
       "      <td>Maize</td>\n",
       "      <td>46</td>\n",
       "      <td>0</td>\n",
       "      <td>238,6363636</td>\n",
       "      <td>...</td>\n",
       "      <td>0</td>\n",
       "      <td>11762,74</td>\n",
       "      <td>8594,30605</td>\n",
       "      <td>7079,225979</td>\n",
       "      <td>1435</td>\n",
       "      <td>7,146352313</td>\n",
       "      <td>15,8</td>\n",
       "      <td>112912,3665</td>\n",
       "      <td>28.9.2017</td>\n",
       "      <td>5.6.2018</td>\n",
       "    </tr>\n",
       "    <tr>\n",
       "      <th>2</th>\n",
       "      <td>G-2/1</td>\n",
       "      <td>94,88</td>\n",
       "      <td>2018</td>\n",
       "      <td>Soybean</td>\n",
       "      <td>0</td>\n",
       "      <td>Gorstak</td>\n",
       "      <td>Maize</td>\n",
       "      <td>100,33</td>\n",
       "      <td>0</td>\n",
       "      <td>214,6331148</td>\n",
       "      <td>...</td>\n",
       "      <td>9000</td>\n",
       "      <td>11549,5</td>\n",
       "      <td>10191,21689</td>\n",
       "      <td>7146,257137</td>\n",
       "      <td>11843,41404</td>\n",
       "      <td>3,388877141</td>\n",
       "      <td>37,35</td>\n",
       "      <td>126574,5612</td>\n",
       "      <td>19.4.2018</td>\n",
       "      <td>13.9.2018</td>\n",
       "    </tr>\n",
       "    <tr>\n",
       "      <th>3</th>\n",
       "      <td>G-2/2</td>\n",
       "      <td>20,59</td>\n",
       "      <td>2018</td>\n",
       "      <td>Soybean</td>\n",
       "      <td>0</td>\n",
       "      <td>Wendy</td>\n",
       "      <td>Maize</td>\n",
       "      <td>93,15</td>\n",
       "      <td>0</td>\n",
       "      <td>140,8450704</td>\n",
       "      <td>...</td>\n",
       "      <td>0</td>\n",
       "      <td>11571,08</td>\n",
       "      <td>5428,848956</td>\n",
       "      <td>4776,056338</td>\n",
       "      <td>12594,37882</td>\n",
       "      <td>3,71296746</td>\n",
       "      <td>37,35</td>\n",
       "      <td>138679,3346</td>\n",
       "      <td>17.4.2018</td>\n",
       "      <td>14.9.2018</td>\n",
       "    </tr>\n",
       "    <tr>\n",
       "      <th>4</th>\n",
       "      <td>G-3/1</td>\n",
       "      <td>63,62</td>\n",
       "      <td>2018</td>\n",
       "      <td>Maize</td>\n",
       "      <td>0</td>\n",
       "      <td>DKC 5830</td>\n",
       "      <td>Wheat</td>\n",
       "      <td>60</td>\n",
       "      <td>1,886199308</td>\n",
       "      <td>474,6934926</td>\n",
       "      <td>...</td>\n",
       "      <td>9000</td>\n",
       "      <td>12801,04</td>\n",
       "      <td>19899,77051</td>\n",
       "      <td>19745,51399</td>\n",
       "      <td>4947,696479</td>\n",
       "      <td>14,60232631</td>\n",
       "      <td>14,4</td>\n",
       "      <td>210273,4989</td>\n",
       "      <td>17.4.2018</td>\n",
       "      <td>14.9.2018</td>\n",
       "    </tr>\n",
       "  </tbody>\n",
       "</table>\n",
       "<p>5 rows × 25 columns</p>\n",
       "</div>"
      ],
      "text/plain": [
       "  Parcel   Area  Year     Crop  Seed production     Variety Previous crop  \\\n",
       "0  G-1/1  63,38  2018    Maize                0      NS 205         Maize   \n",
       "1  G-1/2  23,01  2018   Barley                0  Salamandre         Maize   \n",
       "2  G-2/1  94,88  2018  Soybean                0     Gorstak         Maize   \n",
       "3  G-2/2  20,59  2018  Soybean                0       Wendy         Maize   \n",
       "4  G-3/1  63,62  2018    Maize                0    DKC 5830         Wheat   \n",
       "\n",
       "  Seed units       Manure Fertiliser amount     ...      Irrigation   Harvest  \\\n",
       "0        184            0        237,719575     ...            9000  11853,74   \n",
       "1         46            0       238,6363636     ...               0  11762,74   \n",
       "2     100,33            0       214,6331148     ...            9000   11549,5   \n",
       "3      93,15            0       140,8450704     ...               0  11571,08   \n",
       "4         60  1,886199308       474,6934926     ...            9000  12801,04   \n",
       "\n",
       "          Seed   Fertiliser    Pesticide        Yield  Price      Revenue  \\\n",
       "0         9450  5037,277795  15202,25308  7,811454718   14,4  112484,9479   \n",
       "1   8594,30605  7079,225979         1435  7,146352313   15,8  112912,3665   \n",
       "2  10191,21689  7146,257137  11843,41404  3,388877141  37,35  126574,5612   \n",
       "3  5428,848956  4776,056338  12594,37882   3,71296746  37,35  138679,3346   \n",
       "4  19899,77051  19745,51399  4947,696479  14,60232631   14,4  210273,4989   \n",
       "\n",
       "  Planting date Harvest date  \n",
       "0     15.6.2018   15.10.2018  \n",
       "1     28.9.2017     5.6.2018  \n",
       "2     19.4.2018    13.9.2018  \n",
       "3     17.4.2018    14.9.2018  \n",
       "4     17.4.2018    14.9.2018  \n",
       "\n",
       "[5 rows x 25 columns]"
      ]
     },
     "execution_count": 3,
     "metadata": {},
     "output_type": "execute_result"
    }
   ],
   "source": [
    "data = pd.read_csv('database_biosense.csv',header=0, delimiter=';',skiprows=1)\n",
    "data.head()"
   ]
  },
  {
   "cell_type": "code",
   "execution_count": 4,
   "metadata": {},
   "outputs": [
    {
     "data": {
      "text/plain": [
       "Parcel                    False\n",
       "Area                      False\n",
       "Year                      False\n",
       "Crop                      False\n",
       "Seed production           False\n",
       "Variety                    True\n",
       "Previous crop              True\n",
       "Seed units                 True\n",
       "Manure                    False\n",
       "Fertiliser amount         False\n",
       "Pesticide amount          False\n",
       "Tillage                   False\n",
       "Sowing                    False\n",
       "Fertiliser application    False\n",
       "Pesticide application     False\n",
       "Irrigation                False\n",
       "Harvest                   False\n",
       "Seed                      False\n",
       "Fertiliser                False\n",
       "Pesticide                 False\n",
       "Yield                     False\n",
       "Price                     False\n",
       "Revenue                   False\n",
       "Planting date              True\n",
       "Harvest date               True\n",
       "dtype: bool"
      ]
     },
     "execution_count": 4,
     "metadata": {},
     "output_type": "execute_result"
    }
   ],
   "source": [
    "data.isnull().any()"
   ]
  },
  {
   "cell_type": "code",
   "execution_count": 5,
   "metadata": {},
   "outputs": [],
   "source": [
    "data.fillna({'Variety':'None','Previous crop': 'None', 'Seed units': '0'}, inplace=True)"
   ]
  },
  {
   "cell_type": "code",
   "execution_count": 6,
   "metadata": {},
   "outputs": [],
   "source": [
    "convert_todot = lambda x: float(x.replace(',','.'))"
   ]
  },
  {
   "cell_type": "code",
   "execution_count": 7,
   "metadata": {},
   "outputs": [],
   "source": [
    "data['Area'] = data['Area'].apply(convert_todot)"
   ]
  },
  {
   "cell_type": "code",
   "execution_count": 8,
   "metadata": {},
   "outputs": [],
   "source": [
    "for i in list(data)[7:23]:\n",
    "    try:\n",
    "        data[i] = data[i].apply(convert_todot)\n",
    "    except ValueError:\n",
    "        continue"
   ]
  },
  {
   "cell_type": "code",
   "execution_count": 9,
   "metadata": {},
   "outputs": [],
   "source": [
    "drop = data['Planting date'].dropna()\n",
    "i1 = list(drop.index.values)\n",
    "dfdates = data.loc[i1]"
   ]
  },
  {
   "cell_type": "code",
   "execution_count": 10,
   "metadata": {},
   "outputs": [],
   "source": [
    "drop2 = dfdates['Harvest date'].dropna()\n",
    "i2 = list(drop2.index.values)\n",
    "dfdates = dfdates.loc[i2]"
   ]
  },
  {
   "cell_type": "code",
   "execution_count": 11,
   "metadata": {},
   "outputs": [],
   "source": [
    "convert_date = lambda x: datetime.strptime(str(x), '%d.%m.%Y')"
   ]
  },
  {
   "cell_type": "code",
   "execution_count": 12,
   "metadata": {},
   "outputs": [],
   "source": [
    "dfdates['Planting date'] = dfdates['Planting date'].apply(convert_date)\n",
    "dfdates['Harvest date'] = dfdates['Harvest date'].apply(convert_date)"
   ]
  },
  {
   "cell_type": "code",
   "execution_count": 13,
   "metadata": {},
   "outputs": [
    {
     "data": {
      "text/plain": [
       "['Maize',\n",
       " 'Barley',\n",
       " 'Soybean',\n",
       " 'Wheat',\n",
       " 'Sunflower',\n",
       " 'Oilseed rape',\n",
       " '2nd soybean']"
      ]
     },
     "execution_count": 13,
     "metadata": {},
     "output_type": "execute_result"
    }
   ],
   "source": [
    "crops = list(data['Crop'].unique())\n",
    "crops"
   ]
  },
  {
   "cell_type": "code",
   "execution_count": 14,
   "metadata": {},
   "outputs": [],
   "source": [
    "n = len(crops)"
   ]
  },
  {
   "cell_type": "code",
   "execution_count": 64,
   "metadata": {},
   "outputs": [],
   "source": [
    "import matplotlib.gridspec as gridspec\n",
    "\n",
    "def plot_ph_date(dfdates,i):\n",
    "    crop = list(dfdates['Crop'].unique())\n",
    "    fig = plt.figure(figsize=(15,8))\n",
    "    gs = gridspec.GridSpec(2,2)\n",
    "    df = dfdates[dfdates['Crop']==crop[i]]\n",
    "    \n",
    "    ax1 = fig.add_subplot(gs[0,:])\n",
    "    ax1.hist(df[['Planting date','Harvest date']],label=['Planting date','Harvest date'])\n",
    "    ax1.set_ylabel('counts',fontsize=16,fontstyle='italic')\n",
    "    ax1.legend()\n",
    "    \n",
    "    dates = ['Planting date','Harvest date']\n",
    "    for j in range(2):\n",
    "        index = []\n",
    "        for k in df[dates[j]].index.values:\n",
    "            if df.loc[k,dates[j]].year == 2017:\n",
    "                index.append(k)\n",
    "        ph_dates = df[dates[j]].loc[index]\n",
    "        ax = fig.add_subplot(gs[1,j])\n",
    "        ax.hist(ph_dates.values,color='#607c8e')\n",
    "        ax.set_title('Distribution of '+dates[j]+' for 2017. year')\n",
    "        ax.set_ylabel('counts',fontsize=10,fontstyle='italic')\n",
    "        ax.set_xlabel(dates[j], fontsize=10,fontstyle='italic')\n",
    "        ax.grid(axis='y',color='lightgrey',alpha=0.5)\n",
    "        for tick in ax.get_xticklabels():\n",
    "            tick.set_rotation(55)\n",
    "    \n",
    "    fig.align_labels()\n",
    "    fig.suptitle(crop[i], fontsize = 20, y=0.99)\n",
    "    fig.tight_layout()\n",
    "    plt.subplots_adjust(top=0.92, bottom=0.08, left=0.10, right=0.95, hspace=0.3, wspace=0.35)\n",
    "    plt.show()"
   ]
  },
  {
   "cell_type": "code",
   "execution_count": 65,
   "metadata": {},
   "outputs": [
    {
     "data": {
      "image/png": "[encoded data removed]",
      "text/plain": [
       "<Figure size 1080x576 with 3 Axes>"
      ]
     },
     "metadata": {
      "needs_background": "light"
     },
     "output_type": "display_data"
    }
   ],
   "source": [
    "plot_ph_date(dfdates,0)"
   ]
  },
  {
   "cell_type": "code",
   "execution_count": null,
   "metadata": {},
   "outputs": [],
   "source": []
  },
  {
   "cell_type": "code",
   "execution_count": 74,
   "metadata": {},
   "outputs": [],
   "source": [
    "def plot_yield(data,i):\n",
    "    crop = list(data['Crop'].unique())\n",
    "    fig2 = plt.figure(figsize=(10,5))\n",
    "    df2 = data[data['Crop']==crop[i]]\n",
    "    \n",
    "    df16 = df2[df2['Year'] == 2016]\n",
    "    std16 = np.std(df16['Yield'])\n",
    "    df17 = df2[df2['Year'] == 2017]\n",
    "    std17 = np.std(df17['Yield'])\n",
    "    df18 = df2[df2['Year'] == 2018]\n",
    "    std18 = np.std(df18['Yield'])\n",
    "    \n",
    "    ax = fig2.add_subplot(1,1,1)\n",
    "    palette = [\"#9b59b6\", \"#3498db\", \"#95a5a6\", \"#e74c3c\", \"#34495e\", \"#2ecc71\"]\n",
    "    sns.boxplot(x='Year',y='Yield',data=df2,palette=palette)\n",
    "    \n",
    "    text = '\\n'.join(('Variability of yield:',\"\\u2022 std 2016:\"+str(round(std16,2)), '\\u2022 std 2017: '+str(round(std17,2)),\n",
    "                      '\\u2022 std 2018: '+str(round(std18,2))))\n",
    "    props = dict(boxstyle='round', facecolor='lightgrey', alpha=0.5)\n",
    "    plt.figtext(0.95, 0.4, text,family='sans-serif', color='k', fontsize=15, bbox=props)\n",
    "    #plt.subplots_adjust()\n",
    "    fig2.suptitle(crop[i],fontsize=20,fontweight=5)\n",
    "    plt.show()"
   ]
  },
  {
   "cell_type": "code",
   "execution_count": 75,
   "metadata": {},
   "outputs": [
    {
     "data": {
      "image/png": "[encoded data removed]",
      "text/plain": [
       "<Figure size 720x360 with 1 Axes>"
      ]
     },
     "metadata": {
      "needs_background": "light"
     },
     "output_type": "display_data"
    }
   ],
   "source": [
    "plot_yield(data,0)"
   ]
  },
  {
   "cell_type": "code",
   "execution_count": null,
   "metadata": {},
   "outputs": [],
   "source": [
    "text = {}\n",
    "for i in range(n): \n",
    "    \n",
    "    df3 = newd[newd['Crop']==crops[i]]\n",
    "    text[crops[i]] = {'Planted unique varieties': len(df3['Variety'].unique())}\n",
    "    \n",
    "    k = df3['Variety'].value_counts()\n",
    "    varieties = k.index.values\n",
    "    counts = k.values\n",
    "    for j in range(k.shape[0]):\n",
    "        text[crops[i]][varieties[j]] = counts[j]\n",
    "        \n",
    "text"
   ]
  },
  {
   "cell_type": "code",
   "execution_count": null,
   "metadata": {},
   "outputs": [],
   "source": []
  },
  {
   "cell_type": "code",
   "execution_count": null,
   "metadata": {},
   "outputs": [],
   "source": [
    "pivot = newd[['Crop','Previous crop']].pivot_table(index='Previous crop', columns='Crop',aggfunc=len,fill_value=0)\n",
    "pivot"
   ]
  },
  {
   "cell_type": "code",
   "execution_count": null,
   "metadata": {},
   "outputs": [],
   "source": [
    "chi2 = stats.chi2_contingency(pivot)"
   ]
  },
  {
   "cell_type": "code",
   "execution_count": null,
   "metadata": {},
   "outputs": [],
   "source": [
    "if chi2[1] <= 0.01:\n",
    "    print('Previous crop and Crop attribute are dependent at level confidence 0.01.')\n",
    "elif chi2[1] <= 0.05:\n",
    "    print('Previous crop and Crop attribute are dependent at level confidence 0.05.')\n",
    "else:\n",
    "    print('Previous crop and Crop attribute are independent.')"
   ]
  },
  {
   "cell_type": "code",
   "execution_count": null,
   "metadata": {},
   "outputs": [],
   "source": [
    "newd['Duration of season (days)'] = newd['Harvest date']-newd['Planting date']"
   ]
  },
  {
   "cell_type": "code",
   "execution_count": null,
   "metadata": {},
   "outputs": [],
   "source": [
    "newd['Duration of season (days)'] = newd['Duration of season (days)'].apply(lambda x: float(x.days))\n",
    "newd"
   ]
  },
  {
   "cell_type": "code",
   "execution_count": null,
   "metadata": {},
   "outputs": [],
   "source": [
    "def corr(y):    \n",
    "    Z = {}  #for centered attributes vectors\n",
    "    for j in list(y):\n",
    "        mean = y[j].sum()*(1/y[j].shape[0])\n",
    "        Z[j] = [i - mean for i in y[j]] #centered vector for attribute j\n",
    "        \n",
    "    df_dic = {' ': list(y)}\n",
    "    for j in list(y):\n",
    "        Zj = np.array(Z[j])\n",
    "        df_list = []\n",
    "        for i in list(y):\n",
    "            Zi = np.array(Z[i])\n",
    "            norm_Zj = np.linalg.norm(Zj,2)\n",
    "            norm_Zi = np.linalg.norm(Zi,2)\n",
    "            df_list.append(np.dot(np.transpose(Zj/norm_Zj),Zi/norm_Zi)) #corr = cos(teta) for every two attributes i and j\n",
    "        df_dic[j] = df_list #correlations for attribute j relative to all attributes (include corr for j,j) \n",
    "    columns = list(df_dic.keys())\n",
    "    sigmaCorr = pd.DataFrame(df_dic, columns = columns)\n",
    "    sigmaCorr = sigmaCorr.set_index(' ')\n",
    "    sns.set(font_scale=1, rc={\"figure.figsize\": (5, 5)})\n",
    "    sns.heatmap(sigmaCorr, square=True)\n",
    "    plt.title('Heat map for correlation', fontsize='20')\n",
    "    return sigmaCorr"
   ]
  },
  {
   "cell_type": "code",
   "execution_count": null,
   "metadata": {},
   "outputs": [],
   "source": [
    "corr_list = ['Yield','Seed','Fertiliser','Pesticide','Duration of season (days)']"
   ]
  },
  {
   "cell_type": "code",
   "execution_count": null,
   "metadata": {},
   "outputs": [],
   "source": [
    "dfcorr = newd[corr_list]\n",
    "for i in corr_list:\n",
    "    for j in dfcorr[i].index.values:\n",
    "        if dfcorr.loc[j,i] == 0:\n",
    "            dfcorr = dfcorr.drop(j,axis=0)"
   ]
  },
  {
   "cell_type": "code",
   "execution_count": null,
   "metadata": {},
   "outputs": [],
   "source": [
    "dfcorr.dtypes"
   ]
  },
  {
   "cell_type": "code",
   "execution_count": null,
   "metadata": {},
   "outputs": [],
   "source": [
    "corr(dfcorr)"
   ]
  },
  {
   "cell_type": "code",
   "execution_count": null,
   "metadata": {},
   "outputs": [],
   "source": [
    "costs = list(newd)[11:15]+list(newd)[17:20]\n",
    "costs"
   ]
  },
  {
   "cell_type": "code",
   "execution_count": null,
   "metadata": {},
   "outputs": [],
   "source": [
    "dfcosts = newd[costs]\n",
    "for i in dfcosts['Pesticide application'].index.values:\n",
    "    try:\n",
    "        float(dfcosts.loc[i,'Pesticide application'].replace(',','.'))\n",
    "    except ValueError:\n",
    "        dfcosts = dfcosts.drop(i,axis=0)\n",
    "dfcosts['Pesticide application'] = dfcosts['Pesticide application'].apply(convert_todot)"
   ]
  },
  {
   "cell_type": "code",
   "execution_count": null,
   "metadata": {},
   "outputs": [],
   "source": [
    "newd['Profit'] = newd['Revenue'] - dfcosts.sum(axis=1)"
   ]
  },
  {
   "cell_type": "code",
   "execution_count": null,
   "metadata": {},
   "outputs": [],
   "source": [
    "sort = newd['Profit'].sort_values(ascending=False)"
   ]
  },
  {
   "cell_type": "code",
   "execution_count": null,
   "metadata": {},
   "outputs": [],
   "source": [
    "crop_list = []\n",
    "profit = []\n",
    "for i in sort[:5].index.values:\n",
    "    profit += [sort.loc[i]]\n",
    "    crop_list += [newd.loc[i,'Parcel']]\n",
    "d = {'Parcel': crop_list,'Profit': profit}\n",
    "top5 = pd.DataFrame(d,columns=['Parcel','Profit'])\n",
    "top5 = top5.set_index('Parcel')\n",
    "top5"
   ]
  },
  {
   "cell_type": "code",
   "execution_count": null,
   "metadata": {},
   "outputs": [],
   "source": [
    "grouped_profit = newd['Profit'].groupby(newd['Crop'])\n",
    "profit_mean = grouped_profit.mean()\n",
    "profit_mean"
   ]
  },
  {
   "cell_type": "code",
   "execution_count": null,
   "metadata": {},
   "outputs": [],
   "source": [
    "sorted_profit = profit_mean.sort_values(ascending=False)\n",
    "sorted_profit"
   ]
  },
  {
   "cell_type": "code",
   "execution_count": null,
   "metadata": {},
   "outputs": [],
   "source": [
    "grouped_fp = newd[['Fertiliser amount','Pesticide amount']].groupby(newd['Crop'])\n",
    "fp_mean = grouped_fp.mean()\n",
    "fp_mean"
   ]
  },
  {
   "cell_type": "code",
   "execution_count": null,
   "metadata": {},
   "outputs": [],
   "source": [
    "ranked_f = fp_mean.sort_values(by=['Fertiliser amount'],ascending=False)\n",
    "ranked_f"
   ]
  },
  {
   "cell_type": "code",
   "execution_count": null,
   "metadata": {},
   "outputs": [],
   "source": [
    "ranked_p = fp_mean.sort_values(by=['Pesticide amount'],ascending=False)\n",
    "ranked_p"
   ]
  },
  {
   "cell_type": "code",
   "execution_count": null,
   "metadata": {},
   "outputs": [],
   "source": [
    "grouped_fp_byvar = newd[['Fertiliser amount','Pesticide amount']].groupby(newd['Variety'])\n",
    "fp_byvar_mean = grouped_fp_byvar.mean()\n",
    "fp_byvar_mean"
   ]
  },
  {
   "cell_type": "code",
   "execution_count": null,
   "metadata": {},
   "outputs": [],
   "source": [
    "top3_var = fp_byvar_mean.sort_values(by=['Pesticide amount'],ascending=True)[:3]\n",
    "top3_var"
   ]
  },
  {
   "cell_type": "code",
   "execution_count": null,
   "metadata": {},
   "outputs": [],
   "source": [
    "top3_var_f = fp_byvar_mean.sort_values(by=['Fertiliser amount'],ascending=True)[:3]\n",
    "top3_var_f"
   ]
  },
  {
   "cell_type": "code",
   "execution_count": null,
   "metadata": {},
   "outputs": [],
   "source": []
  }
 ],
 "metadata": {
  "kernelspec": {
   "display_name": "Python 3",
   "language": "python",
   "name": "python3"
  },
  "language_info": {
   "codemirror_mode": {
    "name": "ipython",
    "version": 3
   },
   "file_extension": ".py",
   "mimetype": "text/x-python",
   "name": "python",
   "nbconvert_exporter": "python",
   "pygments_lexer": "ipython3",
   "version": "3.7.0"
  }
 },
 "nbformat": 4,
 "nbformat_minor": 2
}
